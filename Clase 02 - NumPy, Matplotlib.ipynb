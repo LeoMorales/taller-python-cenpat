{
 "cells": [
  {
   "cell_type": "markdown",
   "metadata": {},
   "source": [
    "# NumPy"
   ]
  },
  {
   "cell_type": "markdown",
   "metadata": {},
   "source": [
    "### NumPy es una libreria que te permite manipular estructura de datos (tipo arreglos fijos) de una manera mas simple y completa que las tipicas listas de Python."
   ]
  },
  {
   "cell_type": "code",
   "execution_count": 1,
   "metadata": {},
   "outputs": [],
   "source": [
    "import numpy as np"
   ]
  },
  {
   "cell_type": "code",
   "execution_count": 2,
   "metadata": {},
   "outputs": [
    {
     "data": {
      "text/html": [
       "\n",
       "        <iframe\n",
       "            width=\"100%\"\n",
       "            height=\"500px\"\n",
       "            src=\"https://docs.scipy.org/doc/numpy-1.9.0/index.html\"\n",
       "            frameborder=\"0\"\n",
       "            allowfullscreen\n",
       "        ></iframe>\n",
       "        "
      ],
      "text/plain": [
       "<IPython.lib.display.IFrame at 0x110743c18>"
      ]
     },
     "execution_count": 2,
     "metadata": {},
     "output_type": "execute_result"
    }
   ],
   "source": [
    "from IPython.display import IFrame\n",
    "IFrame(src=\"https://docs.scipy.org/doc/numpy-1.9.0/index.html\", width='100%', height='500px')"
   ]
  },
  {
   "cell_type": "markdown",
   "metadata": {},
   "source": [
    "## GENERADORES"
   ]
  },
  {
   "cell_type": "markdown",
   "metadata": {},
   "source": [
    "### A partir de listas"
   ]
  },
  {
   "cell_type": "code",
   "execution_count": 3,
   "metadata": {},
   "outputs": [],
   "source": [
    "lista = [1,2,3,4]\n",
    "lista_numpy = np.array(lista)"
   ]
  },
  {
   "cell_type": "code",
   "execution_count": 4,
   "metadata": {},
   "outputs": [
    {
     "data": {
      "text/plain": [
       "([1, 2, 3, 4], array([1, 2, 3, 4]))"
      ]
     },
     "execution_count": 4,
     "metadata": {},
     "output_type": "execute_result"
    }
   ],
   "source": [
    "lista, lista_numpy"
   ]
  },
  {
   "cell_type": "code",
   "execution_count": 5,
   "metadata": {},
   "outputs": [
    {
     "data": {
      "text/plain": [
       "(4,)"
      ]
     },
     "execution_count": 5,
     "metadata": {},
     "output_type": "execute_result"
    }
   ],
   "source": [
    "lista_numpy.shape"
   ]
  },
  {
   "cell_type": "code",
   "execution_count": 6,
   "metadata": {},
   "outputs": [
    {
     "data": {
      "text/plain": [
       "(2, 2)"
      ]
     },
     "execution_count": 6,
     "metadata": {},
     "output_type": "execute_result"
    }
   ],
   "source": [
    "matrix_numpy = np.array([[1,2], [3,4]])\n",
    "matrix_numpy.shape"
   ]
  },
  {
   "cell_type": "code",
   "execution_count": 7,
   "metadata": {},
   "outputs": [
    {
     "data": {
      "text/plain": [
       "array([[1, 2],\n",
       "       [3, 4]])"
      ]
     },
     "execution_count": 7,
     "metadata": {},
     "output_type": "execute_result"
    }
   ],
   "source": [
    "matrix_numpy"
   ]
  },
  {
   "cell_type": "markdown",
   "metadata": {},
   "source": [
    "### Rangos"
   ]
  },
  {
   "cell_type": "code",
   "execution_count": 8,
   "metadata": {},
   "outputs": [
    {
     "data": {
      "text/plain": [
       "array([0, 1, 2, 3, 4, 5, 6, 7, 8, 9])"
      ]
     },
     "execution_count": 8,
     "metadata": {},
     "output_type": "execute_result"
    }
   ],
   "source": [
    "np.arange(10)"
   ]
  },
  {
   "cell_type": "code",
   "execution_count": 9,
   "metadata": {},
   "outputs": [
    {
     "data": {
      "text/plain": [
       "array([1, 2, 3, 4, 5, 6, 7, 8, 9])"
      ]
     },
     "execution_count": 9,
     "metadata": {},
     "output_type": "execute_result"
    }
   ],
   "source": [
    "np.arange(1, 10)"
   ]
  },
  {
   "cell_type": "code",
   "execution_count": 10,
   "metadata": {},
   "outputs": [
    {
     "data": {
      "text/plain": [
       "array([1., 3., 5., 7., 9.])"
      ]
     },
     "execution_count": 10,
     "metadata": {},
     "output_type": "execute_result"
    }
   ],
   "source": [
    "np.arange(1, 10, 2, dtype=\"float\")"
   ]
  },
  {
   "cell_type": "code",
   "execution_count": 11,
   "metadata": {},
   "outputs": [],
   "source": [
    "lista = np.arange(10)"
   ]
  },
  {
   "cell_type": "markdown",
   "metadata": {},
   "source": [
    "### Ceros y Unos"
   ]
  },
  {
   "cell_type": "code",
   "execution_count": 12,
   "metadata": {},
   "outputs": [
    {
     "data": {
      "text/plain": [
       "array([[0., 0.],\n",
       "       [0., 0.]])"
      ]
     },
     "execution_count": 12,
     "metadata": {},
     "output_type": "execute_result"
    }
   ],
   "source": [
    "np.zeros((2,2))"
   ]
  },
  {
   "cell_type": "code",
   "execution_count": 13,
   "metadata": {},
   "outputs": [
    {
     "data": {
      "text/plain": [
       "array([[1., 1.],\n",
       "       [1., 1.]])"
      ]
     },
     "execution_count": 13,
     "metadata": {},
     "output_type": "execute_result"
    }
   ],
   "source": [
    "np.ones((2,2))"
   ]
  },
  {
   "cell_type": "code",
   "execution_count": 14,
   "metadata": {},
   "outputs": [
    {
     "data": {
      "text/plain": [
       "array([[False, False],\n",
       "       [False, False]])"
      ]
     },
     "execution_count": 14,
     "metadata": {},
     "output_type": "execute_result"
    }
   ],
   "source": [
    "np.zeros((2,2), dtype=np.bool)"
   ]
  },
  {
   "cell_type": "code",
   "execution_count": 15,
   "metadata": {},
   "outputs": [
    {
     "data": {
      "text/plain": [
       "array([[ True,  True],\n",
       "       [ True,  True]])"
      ]
     },
     "execution_count": 15,
     "metadata": {},
     "output_type": "execute_result"
    }
   ],
   "source": [
    "np.ones((2,2), dtype=np.bool)"
   ]
  },
  {
   "cell_type": "code",
   "execution_count": 16,
   "metadata": {},
   "outputs": [
    {
     "data": {
      "text/plain": [
       "array([[1, 1],\n",
       "       [1, 1]])"
      ]
     },
     "execution_count": 16,
     "metadata": {},
     "output_type": "execute_result"
    }
   ],
   "source": [
    "np.ones((2,2), dtype=np.int)"
   ]
  },
  {
   "cell_type": "code",
   "execution_count": 17,
   "metadata": {},
   "outputs": [
    {
     "data": {
      "text/plain": [
       "array([[0, 0],\n",
       "       [0, 0]])"
      ]
     },
     "execution_count": 17,
     "metadata": {},
     "output_type": "execute_result"
    }
   ],
   "source": [
    "np.zeros((2,2), dtype=np.int)"
   ]
  },
  {
   "cell_type": "markdown",
   "metadata": {},
   "source": [
    "### Randoms"
   ]
  },
  {
   "cell_type": "code",
   "execution_count": 18,
   "metadata": {},
   "outputs": [
    {
     "data": {
      "text/plain": [
       "array([[0.37203915, 0.49678494, 0.94066131, 0.84441079, 0.8663403 ],\n",
       "       [0.73106872, 0.56432586, 0.11377131, 0.7270601 , 0.88698245],\n",
       "       [0.89649861, 0.10165179, 0.81146344, 0.23994771, 0.90534717],\n",
       "       [0.12532111, 0.71715159, 0.88410836, 0.07564889, 0.44215688],\n",
       "       [0.47332858, 0.28356839, 0.59887164, 0.53829723, 0.12247074]])"
      ]
     },
     "execution_count": 18,
     "metadata": {},
     "output_type": "execute_result"
    }
   ],
   "source": [
    "np.random.random_sample((5,5))"
   ]
  },
  {
   "cell_type": "code",
   "execution_count": 19,
   "metadata": {},
   "outputs": [
    {
     "data": {
      "text/plain": [
       "array([[0, 4, 2, 0, 1, 0, 1, 2, 0, 1],\n",
       "       [3, 0, 0, 1, 2, 2, 2, 0, 1, 0],\n",
       "       [4, 2, 1, 0, 1, 1, 3, 2, 2, 4],\n",
       "       [1, 0, 0, 0, 1, 2, 1, 1, 2, 0],\n",
       "       [1, 2, 1, 2, 0, 0, 1, 0, 0, 1],\n",
       "       [1, 0, 0, 1, 1, 1, 0, 0, 1, 2],\n",
       "       [0, 0, 0, 1, 2, 0, 1, 2, 0, 1],\n",
       "       [1, 0, 0, 0, 0, 1, 1, 3, 0, 0],\n",
       "       [2, 2, 1, 2, 1, 1, 0, 2, 0, 0],\n",
       "       [0, 1, 0, 1, 2, 0, 0, 0, 2, 0]])"
      ]
     },
     "execution_count": 19,
     "metadata": {},
     "output_type": "execute_result"
    }
   ],
   "source": [
    "np.random.poisson(size=(10,10))"
   ]
  },
  {
   "cell_type": "code",
   "execution_count": 20,
   "metadata": {},
   "outputs": [
    {
     "data": {
      "text/plain": [
       "array([[1.55421063, 0.70081229, 0.59237209, 0.35365289, 0.39396508,\n",
       "        0.41814448, 0.01089799, 0.73565568, 0.03492969, 1.33544644],\n",
       "       [1.75098272, 2.38849031, 2.8877142 , 0.05849927, 1.80579236,\n",
       "        0.07500307, 1.79569088, 0.11392259, 0.03739635, 0.5150447 ],\n",
       "       [1.07125834, 0.5678051 , 0.65169024, 0.02972459, 0.14456774,\n",
       "        0.84196579, 0.05332791, 0.53486082, 1.01153361, 0.37002308],\n",
       "       [2.99628902, 0.10506644, 0.1298056 , 0.07477268, 0.38507566,\n",
       "        0.55561902, 0.33650746, 0.29394   , 1.01033467, 0.12612822],\n",
       "       [0.41508202, 0.64127064, 0.817801  , 4.7723874 , 0.89494324,\n",
       "        0.56539178, 0.36755011, 0.8798685 , 0.79983951, 1.16954405],\n",
       "       [0.20451796, 0.31645461, 0.39795288, 3.22582771, 0.44759837,\n",
       "        1.79897154, 1.44323689, 1.37327724, 1.85316756, 1.79356277],\n",
       "       [0.38690244, 1.26748833, 0.71400363, 2.64589188, 0.39837447,\n",
       "        3.35532369, 2.12926718, 1.34988892, 1.52381036, 2.92206608],\n",
       "       [0.61447699, 1.12444258, 0.23747877, 0.2432519 , 1.05877403,\n",
       "        0.2530833 , 0.09532635, 0.18867742, 0.47565538, 3.09987261],\n",
       "       [0.5209767 , 0.89128999, 0.40329282, 0.35854226, 0.0262172 ,\n",
       "        0.65336892, 0.3419133 , 0.73351869, 1.17200404, 1.32019541],\n",
       "       [0.91359552, 1.00838147, 1.61480392, 0.40101829, 1.32165079,\n",
       "        0.08932158, 0.90395547, 1.30128359, 0.33161766, 0.53565641]])"
      ]
     },
     "execution_count": 20,
     "metadata": {},
     "output_type": "execute_result"
    }
   ],
   "source": [
    "np.random.exponential(size=(10, 10))"
   ]
  },
  {
   "cell_type": "code",
   "execution_count": 21,
   "metadata": {},
   "outputs": [
    {
     "data": {
      "text/plain": [
       "array([[[846, 900, 873],\n",
       "        [998, 949, 970],\n",
       "        [940, 827, 956],\n",
       "        [947, 804, 931],\n",
       "        [946, 862, 961],\n",
       "        [930, 908, 918],\n",
       "        [944, 902, 926],\n",
       "        [846, 835, 859],\n",
       "        [982, 852, 931],\n",
       "        [815, 971, 806]],\n",
       "\n",
       "       [[933, 945, 874],\n",
       "        [807, 855, 993],\n",
       "        [913, 884, 969],\n",
       "        [818, 922, 841],\n",
       "        [957, 920, 877],\n",
       "        [937, 997, 940],\n",
       "        [940, 929, 979],\n",
       "        [899, 909, 857],\n",
       "        [992, 827, 925],\n",
       "        [960, 890, 933]],\n",
       "\n",
       "       [[854, 806, 954],\n",
       "        [837, 830, 929],\n",
       "        [811, 907, 931],\n",
       "        [847, 930, 922],\n",
       "        [807, 821, 860],\n",
       "        [900, 922, 985],\n",
       "        [935, 835, 900],\n",
       "        [970, 872, 903],\n",
       "        [883, 853, 917],\n",
       "        [853, 921, 905]],\n",
       "\n",
       "       [[954, 985, 826],\n",
       "        [988, 984, 993],\n",
       "        [860, 953, 896],\n",
       "        [973, 857, 823],\n",
       "        [938, 809, 809],\n",
       "        [947, 948, 894],\n",
       "        [966, 842, 957],\n",
       "        [912, 881, 932],\n",
       "        [981, 933, 961],\n",
       "        [924, 844, 962]],\n",
       "\n",
       "       [[906, 976, 927],\n",
       "        [965, 968, 867],\n",
       "        [848, 910, 838],\n",
       "        [926, 914, 909],\n",
       "        [988, 992, 918],\n",
       "        [974, 831, 864],\n",
       "        [886, 998, 929],\n",
       "        [944, 825, 899],\n",
       "        [964, 873, 993],\n",
       "        [828, 922, 907]],\n",
       "\n",
       "       [[868, 852, 909],\n",
       "        [855, 946, 854],\n",
       "        [928, 990, 915],\n",
       "        [918, 907, 906],\n",
       "        [962, 830, 900],\n",
       "        [857, 822, 870],\n",
       "        [876, 976, 934],\n",
       "        [978, 838, 903],\n",
       "        [835, 958, 897],\n",
       "        [871, 833, 888]],\n",
       "\n",
       "       [[890, 833, 939],\n",
       "        [804, 827, 851],\n",
       "        [805, 993, 804],\n",
       "        [872, 842, 826],\n",
       "        [902, 898, 978],\n",
       "        [881, 921, 854],\n",
       "        [865, 867, 899],\n",
       "        [971, 819, 811],\n",
       "        [931, 850, 964],\n",
       "        [952, 930, 904]],\n",
       "\n",
       "       [[940, 956, 854],\n",
       "        [878, 805, 836],\n",
       "        [853, 865, 972],\n",
       "        [915, 928, 950],\n",
       "        [893, 810, 807],\n",
       "        [875, 918, 807],\n",
       "        [864, 859, 897],\n",
       "        [810, 930, 870],\n",
       "        [945, 831, 869],\n",
       "        [982, 864, 982]],\n",
       "\n",
       "       [[891, 987, 908],\n",
       "        [955, 886, 943],\n",
       "        [999, 825, 880],\n",
       "        [986, 852, 839],\n",
       "        [915, 878, 882],\n",
       "        [800, 950, 941],\n",
       "        [851, 881, 922],\n",
       "        [941, 942, 869],\n",
       "        [976, 851, 896],\n",
       "        [882, 953, 975]],\n",
       "\n",
       "       [[930, 843, 809],\n",
       "        [974, 928, 801],\n",
       "        [934, 998, 825],\n",
       "        [843, 915, 849],\n",
       "        [815, 926, 938],\n",
       "        [877, 936, 852],\n",
       "        [841, 891, 901],\n",
       "        [944, 874, 867],\n",
       "        [841, 881, 925],\n",
       "        [978, 971, 835]]])"
      ]
     },
     "execution_count": 21,
     "metadata": {},
     "output_type": "execute_result"
    }
   ],
   "source": [
    "x = np.random.randint(800, 1000, size=[10, 10, 3])\n",
    "x"
   ]
  },
  {
   "cell_type": "markdown",
   "metadata": {},
   "source": [
    "### Espacios Lineales"
   ]
  },
  {
   "cell_type": "code",
   "execution_count": 22,
   "metadata": {},
   "outputs": [
    {
     "data": {
      "text/plain": [
       "\u001b[0;31mSignature:\u001b[0m\n",
       "\u001b[0mnp\u001b[0m\u001b[0;34m.\u001b[0m\u001b[0mlinspace\u001b[0m\u001b[0;34m(\u001b[0m\u001b[0;34m\u001b[0m\n",
       "\u001b[0;34m\u001b[0m    \u001b[0mstart\u001b[0m\u001b[0;34m,\u001b[0m\u001b[0;34m\u001b[0m\n",
       "\u001b[0;34m\u001b[0m    \u001b[0mstop\u001b[0m\u001b[0;34m,\u001b[0m\u001b[0;34m\u001b[0m\n",
       "\u001b[0;34m\u001b[0m    \u001b[0mnum\u001b[0m\u001b[0;34m=\u001b[0m\u001b[0;36m50\u001b[0m\u001b[0;34m,\u001b[0m\u001b[0;34m\u001b[0m\n",
       "\u001b[0;34m\u001b[0m    \u001b[0mendpoint\u001b[0m\u001b[0;34m=\u001b[0m\u001b[0;32mTrue\u001b[0m\u001b[0;34m,\u001b[0m\u001b[0;34m\u001b[0m\n",
       "\u001b[0;34m\u001b[0m    \u001b[0mretstep\u001b[0m\u001b[0;34m=\u001b[0m\u001b[0;32mFalse\u001b[0m\u001b[0;34m,\u001b[0m\u001b[0;34m\u001b[0m\n",
       "\u001b[0;34m\u001b[0m    \u001b[0mdtype\u001b[0m\u001b[0;34m=\u001b[0m\u001b[0;32mNone\u001b[0m\u001b[0;34m,\u001b[0m\u001b[0;34m\u001b[0m\n",
       "\u001b[0;34m\u001b[0m    \u001b[0maxis\u001b[0m\u001b[0;34m=\u001b[0m\u001b[0;36m0\u001b[0m\u001b[0;34m,\u001b[0m\u001b[0;34m\u001b[0m\n",
       "\u001b[0;34m\u001b[0m\u001b[0;34m)\u001b[0m\u001b[0;34m\u001b[0m\u001b[0;34m\u001b[0m\u001b[0m\n",
       "\u001b[0;31mDocstring:\u001b[0m\n",
       "Return evenly spaced numbers over a specified interval.\n",
       "\n",
       "Returns `num` evenly spaced samples, calculated over the\n",
       "interval [`start`, `stop`].\n",
       "\n",
       "The endpoint of the interval can optionally be excluded.\n",
       "\n",
       ".. versionchanged:: 1.16.0\n",
       "    Non-scalar `start` and `stop` are now supported.\n",
       "\n",
       "Parameters\n",
       "----------\n",
       "start : array_like\n",
       "    The starting value of the sequence.\n",
       "stop : array_like\n",
       "    The end value of the sequence, unless `endpoint` is set to False.\n",
       "    In that case, the sequence consists of all but the last of ``num + 1``\n",
       "    evenly spaced samples, so that `stop` is excluded.  Note that the step\n",
       "    size changes when `endpoint` is False.\n",
       "num : int, optional\n",
       "    Number of samples to generate. Default is 50. Must be non-negative.\n",
       "endpoint : bool, optional\n",
       "    If True, `stop` is the last sample. Otherwise, it is not included.\n",
       "    Default is True.\n",
       "retstep : bool, optional\n",
       "    If True, return (`samples`, `step`), where `step` is the spacing\n",
       "    between samples.\n",
       "dtype : dtype, optional\n",
       "    The type of the output array.  If `dtype` is not given, infer the data\n",
       "    type from the other input arguments.\n",
       "\n",
       "    .. versionadded:: 1.9.0\n",
       "\n",
       "axis : int, optional\n",
       "    The axis in the result to store the samples.  Relevant only if start\n",
       "    or stop are array-like.  By default (0), the samples will be along a\n",
       "    new axis inserted at the beginning. Use -1 to get an axis at the end.\n",
       "\n",
       "    .. versionadded:: 1.16.0\n",
       "\n",
       "Returns\n",
       "-------\n",
       "samples : ndarray\n",
       "    There are `num` equally spaced samples in the closed interval\n",
       "    ``[start, stop]`` or the half-open interval ``[start, stop)``\n",
       "    (depending on whether `endpoint` is True or False).\n",
       "step : float, optional\n",
       "    Only returned if `retstep` is True\n",
       "\n",
       "    Size of spacing between samples.\n",
       "\n",
       "\n",
       "See Also\n",
       "--------\n",
       "arange : Similar to `linspace`, but uses a step size (instead of the\n",
       "         number of samples).\n",
       "geomspace : Similar to `linspace`, but with numbers spaced evenly on a log\n",
       "            scale (a geometric progression).\n",
       "logspace : Similar to `geomspace`, but with the end points specified as\n",
       "           logarithms.\n",
       "\n",
       "Examples\n",
       "--------\n",
       ">>> np.linspace(2.0, 3.0, num=5)\n",
       "array([ 2.  ,  2.25,  2.5 ,  2.75,  3.  ])\n",
       ">>> np.linspace(2.0, 3.0, num=5, endpoint=False)\n",
       "array([ 2. ,  2.2,  2.4,  2.6,  2.8])\n",
       ">>> np.linspace(2.0, 3.0, num=5, retstep=True)\n",
       "(array([ 2.  ,  2.25,  2.5 ,  2.75,  3.  ]), 0.25)\n",
       "\n",
       "Graphical illustration:\n",
       "\n",
       ">>> import matplotlib.pyplot as plt\n",
       ">>> N = 8\n",
       ">>> y = np.zeros(N)\n",
       ">>> x1 = np.linspace(0, 10, N, endpoint=True)\n",
       ">>> x2 = np.linspace(0, 10, N, endpoint=False)\n",
       ">>> plt.plot(x1, y, 'o')\n",
       "[<matplotlib.lines.Line2D object at 0x...>]\n",
       ">>> plt.plot(x2, y + 0.5, 'o')\n",
       "[<matplotlib.lines.Line2D object at 0x...>]\n",
       ">>> plt.ylim([-0.5, 1])\n",
       "(-0.5, 1)\n",
       ">>> plt.show()\n",
       "\u001b[0;31mFile:\u001b[0m      ~/miniconda3/envs/dlearning/lib/python3.7/site-packages/numpy/core/function_base.py\n",
       "\u001b[0;31mType:\u001b[0m      function\n"
      ]
     },
     "metadata": {},
     "output_type": "display_data"
    }
   ],
   "source": [
    "np.linspace?"
   ]
  },
  {
   "cell_type": "code",
   "execution_count": 23,
   "metadata": {},
   "outputs": [
    {
     "data": {
      "text/plain": [
       "array([ 0.        ,  0.20408163,  0.40816327,  0.6122449 ,  0.81632653,\n",
       "        1.02040816,  1.2244898 ,  1.42857143,  1.63265306,  1.83673469,\n",
       "        2.04081633,  2.24489796,  2.44897959,  2.65306122,  2.85714286,\n",
       "        3.06122449,  3.26530612,  3.46938776,  3.67346939,  3.87755102,\n",
       "        4.08163265,  4.28571429,  4.48979592,  4.69387755,  4.89795918,\n",
       "        5.10204082,  5.30612245,  5.51020408,  5.71428571,  5.91836735,\n",
       "        6.12244898,  6.32653061,  6.53061224,  6.73469388,  6.93877551,\n",
       "        7.14285714,  7.34693878,  7.55102041,  7.75510204,  7.95918367,\n",
       "        8.16326531,  8.36734694,  8.57142857,  8.7755102 ,  8.97959184,\n",
       "        9.18367347,  9.3877551 ,  9.59183673,  9.79591837, 10.        ])"
      ]
     },
     "execution_count": 23,
     "metadata": {},
     "output_type": "execute_result"
    }
   ],
   "source": [
    "np.linspace(0, 10, num=50)"
   ]
  },
  {
   "cell_type": "markdown",
   "metadata": {},
   "source": [
    "# ACCESO"
   ]
  },
  {
   "cell_type": "code",
   "execution_count": 24,
   "metadata": {},
   "outputs": [],
   "source": [
    "lista = np.arange(10)"
   ]
  },
  {
   "cell_type": "code",
   "execution_count": 25,
   "metadata": {},
   "outputs": [
    {
     "data": {
      "text/plain": [
       "array([0, 1, 2, 3])"
      ]
     },
     "execution_count": 25,
     "metadata": {},
     "output_type": "execute_result"
    }
   ],
   "source": [
    "lista[0:4]"
   ]
  },
  {
   "cell_type": "code",
   "execution_count": 26,
   "metadata": {},
   "outputs": [
    {
     "data": {
      "text/plain": [
       "4"
      ]
     },
     "execution_count": 26,
     "metadata": {},
     "output_type": "execute_result"
    }
   ],
   "source": [
    "lista[4]"
   ]
  },
  {
   "cell_type": "code",
   "execution_count": 27,
   "metadata": {},
   "outputs": [],
   "source": [
    "matrix = np.random.random_sample((2,2))\n",
    "matrix_bool = np.array([[False, True], [False, True]])"
   ]
  },
  {
   "cell_type": "code",
   "execution_count": 28,
   "metadata": {},
   "outputs": [
    {
     "data": {
      "text/plain": [
       "array([[0.02728889, 0.7924253 ],\n",
       "       [0.71993392, 0.74342798]])"
      ]
     },
     "execution_count": 28,
     "metadata": {},
     "output_type": "execute_result"
    }
   ],
   "source": [
    "matrix"
   ]
  },
  {
   "cell_type": "code",
   "execution_count": 29,
   "metadata": {},
   "outputs": [
    {
     "data": {
      "text/plain": [
       "array([[False,  True],\n",
       "       [False,  True]])"
      ]
     },
     "execution_count": 29,
     "metadata": {},
     "output_type": "execute_result"
    }
   ],
   "source": [
    "matrix_bool"
   ]
  },
  {
   "cell_type": "code",
   "execution_count": 30,
   "metadata": {},
   "outputs": [
    {
     "data": {
      "text/plain": [
       "array([0.7924253 , 0.74342798])"
      ]
     },
     "execution_count": 30,
     "metadata": {},
     "output_type": "execute_result"
    }
   ],
   "source": [
    "matrix[matrix_bool]"
   ]
  },
  {
   "cell_type": "code",
   "execution_count": 31,
   "metadata": {},
   "outputs": [],
   "source": [
    "matrix_let = np.array([['a','b'],['c','d']])\n",
    "matrix_num = np.array([[1,9],[7,11]])"
   ]
  },
  {
   "cell_type": "code",
   "execution_count": 32,
   "metadata": {},
   "outputs": [
    {
     "data": {
      "text/plain": [
       "array(['b', 'c', 'd'], dtype='<U1')"
      ]
     },
     "execution_count": 32,
     "metadata": {},
     "output_type": "execute_result"
    }
   ],
   "source": [
    "matrix_let[matrix_num>4]"
   ]
  },
  {
   "cell_type": "markdown",
   "metadata": {},
   "source": [
    "# OPERACIONES"
   ]
  },
  {
   "cell_type": "code",
   "execution_count": 33,
   "metadata": {},
   "outputs": [],
   "source": [
    "lista = np.arange(9)"
   ]
  },
  {
   "cell_type": "code",
   "execution_count": 34,
   "metadata": {},
   "outputs": [
    {
     "data": {
      "text/plain": [
       "array([0, 1, 2, 3, 4, 5, 6, 7, 8])"
      ]
     },
     "execution_count": 34,
     "metadata": {},
     "output_type": "execute_result"
    }
   ],
   "source": [
    "lista"
   ]
  },
  {
   "cell_type": "code",
   "execution_count": 35,
   "metadata": {},
   "outputs": [],
   "source": [
    "matrix = lista.reshape(3,3)"
   ]
  },
  {
   "cell_type": "code",
   "execution_count": 36,
   "metadata": {},
   "outputs": [
    {
     "data": {
      "text/plain": [
       "array([[0, 1, 2],\n",
       "       [3, 4, 5],\n",
       "       [6, 7, 8]])"
      ]
     },
     "execution_count": 36,
     "metadata": {},
     "output_type": "execute_result"
    }
   ],
   "source": [
    "matrix"
   ]
  },
  {
   "cell_type": "code",
   "execution_count": 37,
   "metadata": {},
   "outputs": [],
   "source": [
    "lista = np.arange(0,10, 2)\n",
    "lista_2 = np.arange(10,60, 10)"
   ]
  },
  {
   "cell_type": "code",
   "execution_count": 38,
   "metadata": {},
   "outputs": [
    {
     "data": {
      "text/plain": [
       "array([0, 2, 4, 6, 8])"
      ]
     },
     "execution_count": 38,
     "metadata": {},
     "output_type": "execute_result"
    }
   ],
   "source": [
    "lista"
   ]
  },
  {
   "cell_type": "code",
   "execution_count": 39,
   "metadata": {},
   "outputs": [
    {
     "data": {
      "text/plain": [
       "array([10, 22, 34, 46, 58])"
      ]
     },
     "execution_count": 39,
     "metadata": {},
     "output_type": "execute_result"
    }
   ],
   "source": [
    "lista + lista_2"
   ]
  },
  {
   "cell_type": "code",
   "execution_count": 40,
   "metadata": {},
   "outputs": [
    {
     "data": {
      "text/plain": [
       "array([0.        , 0.1       , 0.13333333, 0.15      , 0.16      ])"
      ]
     },
     "execution_count": 40,
     "metadata": {},
     "output_type": "execute_result"
    }
   ],
   "source": [
    "lista / lista_2"
   ]
  },
  {
   "cell_type": "code",
   "execution_count": 41,
   "metadata": {},
   "outputs": [
    {
     "data": {
      "text/plain": [
       "array([ 0,  4, 16, 36, 64])"
      ]
     },
     "execution_count": 41,
     "metadata": {},
     "output_type": "execute_result"
    }
   ],
   "source": [
    "lista **2"
   ]
  },
  {
   "cell_type": "code",
   "execution_count": 42,
   "metadata": {},
   "outputs": [
    {
     "data": {
      "text/plain": [
       "array([0., 1., 2., 3., 4.])"
      ]
     },
     "execution_count": 42,
     "metadata": {},
     "output_type": "execute_result"
    }
   ],
   "source": [
    "lista / 2"
   ]
  },
  {
   "cell_type": "code",
   "execution_count": 43,
   "metadata": {},
   "outputs": [
    {
     "data": {
      "text/plain": [
       "array([[0.27356804, 0.15340848, 0.17618139, 0.01947385, 0.08821669],\n",
       "       [0.9447941 , 0.65591798, 0.8908192 , 0.6393976 , 0.60639496],\n",
       "       [0.81743804, 0.78567458, 0.22055745, 0.19281167, 0.84823457],\n",
       "       [0.21380783, 0.59490536, 0.0438658 , 0.2109427 , 0.76022862],\n",
       "       [0.4881844 , 0.86819807, 0.24256302, 0.73879505, 0.97124586]])"
      ]
     },
     "execution_count": 43,
     "metadata": {},
     "output_type": "execute_result"
    }
   ],
   "source": [
    "matrix = np.random.random_sample((5,5))\n",
    "matrix"
   ]
  },
  {
   "cell_type": "code",
   "execution_count": 44,
   "metadata": {},
   "outputs": [
    {
     "data": {
      "text/plain": [
       "array([[0.21779086, 0.52539157, 0.23035654, 0.73026731, 0.2489555 ],\n",
       "       [0.70683132, 0.10706818, 0.94339493, 0.89321463, 0.09398491],\n",
       "       [0.16848904, 0.21021297, 0.52940588, 0.48904368, 0.29810851],\n",
       "       [0.42112744, 0.14212543, 0.34679253, 0.40359575, 0.90670384],\n",
       "       [0.72462228, 0.15350707, 0.86389013, 0.78271265, 0.7717121 ]])"
      ]
     },
     "execution_count": 44,
     "metadata": {},
     "output_type": "execute_result"
    }
   ],
   "source": [
    "matrix_2 = np.random.random_sample((5,5))\n",
    "matrix_2"
   ]
  },
  {
   "cell_type": "code",
   "execution_count": 45,
   "metadata": {},
   "outputs": [
    {
     "data": {
      "text/plain": [
       "array([[1.25610428, 0.29198884, 0.76482042, 0.02666675, 0.35434721],\n",
       "       [1.33666134, 6.12617106, 0.94426965, 0.71583871, 6.45204587],\n",
       "       [4.85157991, 3.73751719, 0.41661315, 0.39426268, 2.84538861],\n",
       "       [0.50770339, 4.18577692, 0.12649004, 0.52265838, 0.83845307],\n",
       "       [0.67370879, 5.65575279, 0.28077994, 0.94389051, 1.25855984]])"
      ]
     },
     "execution_count": 45,
     "metadata": {},
     "output_type": "execute_result"
    }
   ],
   "source": [
    "matrix / matrix_2"
   ]
  },
  {
   "cell_type": "code",
   "execution_count": 46,
   "metadata": {},
   "outputs": [
    {
     "data": {
      "text/plain": [
       "array([[0.05958062, 0.08059952, 0.04058454, 0.01422112, 0.02196203],\n",
       "       [0.66781006, 0.07022794, 0.84039432, 0.57111929, 0.05699198],\n",
       "       [0.13772935, 0.16515898, 0.11676441, 0.09429333, 0.25286594],\n",
       "       [0.09004035, 0.08455118, 0.01521233, 0.08513558, 0.68930221],\n",
       "       [0.35374929, 0.13327455, 0.20954779, 0.57826424, 0.74952219]])"
      ]
     },
     "execution_count": 46,
     "metadata": {},
     "output_type": "execute_result"
    }
   ],
   "source": [
    "matrix * matrix_2"
   ]
  },
  {
   "cell_type": "code",
   "execution_count": 47,
   "metadata": {},
   "outputs": [
    {
     "data": {
      "text/plain": [
       "array([[0.4913589 , 0.67880005, 0.40653793, 0.74974117, 0.33717218],\n",
       "       [1.65162541, 0.76298616, 1.83421413, 1.53261223, 0.70037987],\n",
       "       [0.98592708, 0.99588754, 0.74996333, 0.68185535, 1.14634308],\n",
       "       [0.63493528, 0.73703079, 0.39065833, 0.61453845, 1.66693246],\n",
       "       [1.21280667, 1.02170514, 1.10645314, 1.52150771, 1.74295797]])"
      ]
     },
     "execution_count": 47,
     "metadata": {},
     "output_type": "execute_result"
    }
   ],
   "source": [
    "matrix + matrix_2"
   ]
  },
  {
   "cell_type": "code",
   "execution_count": 48,
   "metadata": {},
   "outputs": [],
   "source": [
    "A = np.random.random_sample((10, 100))\n",
    "B = np.random.random_sample((100, 10))"
   ]
  },
  {
   "cell_type": "code",
   "execution_count": 49,
   "metadata": {},
   "outputs": [
    {
     "data": {
      "text/plain": [
       "array([[23.9797747 , 23.41625251, 22.63888296, 21.70889347, 25.04962655,\n",
       "        23.88792987, 22.68309167, 23.71617835, 22.73380172, 21.29189231],\n",
       "       [25.32533157, 24.25782124, 24.44948547, 25.2769712 , 29.39104269,\n",
       "        25.80096413, 24.06002826, 26.91913712, 24.94423908, 24.59620648],\n",
       "       [21.68734528, 21.35128371, 20.96944094, 23.43222201, 24.22417859,\n",
       "        22.8957967 , 19.64618327, 24.42553573, 22.42005482, 21.62247573],\n",
       "       [26.07124219, 25.26340498, 24.88330778, 26.10062208, 27.64456936,\n",
       "        25.98488907, 24.42962987, 27.7177674 , 26.12491419, 23.4451978 ],\n",
       "       [22.51958468, 23.845926  , 23.09564358, 23.09173295, 26.87901588,\n",
       "        24.04220603, 20.12231711, 24.82554729, 22.04670945, 20.88840107],\n",
       "       [21.88340041, 20.45362549, 22.01310559, 20.94606632, 22.2977554 ,\n",
       "        21.44638019, 17.87926317, 22.07212199, 22.0314487 , 19.11566551],\n",
       "       [24.27430955, 24.24451272, 24.07576424, 26.24706614, 26.52655571,\n",
       "        24.5635499 , 23.07406202, 26.1358339 , 25.46768848, 23.33074476],\n",
       "       [24.53289114, 24.42969261, 24.44598138, 25.7598526 , 25.33309273,\n",
       "        24.7246603 , 22.10972997, 27.0266544 , 23.28600277, 23.14419542],\n",
       "       [22.90941713, 20.70747998, 22.00108684, 23.3834282 , 24.6603733 ,\n",
       "        25.16688814, 22.04676461, 23.60822645, 22.92543261, 22.09721023],\n",
       "       [22.57734371, 21.76870228, 21.50481245, 21.8474238 , 23.45261822,\n",
       "        23.65413503, 22.42912139, 23.76786304, 22.85099889, 21.35831402]])"
      ]
     },
     "execution_count": 49,
     "metadata": {},
     "output_type": "execute_result"
    }
   ],
   "source": [
    "np.linalg.multi_dot([A,B])"
   ]
  },
  {
   "cell_type": "code",
   "execution_count": 50,
   "metadata": {},
   "outputs": [
    {
     "data": {
      "text/plain": [
       "array([0, 1, 2])"
      ]
     },
     "execution_count": 50,
     "metadata": {},
     "output_type": "execute_result"
    }
   ],
   "source": [
    "v = np.arange(3)\n",
    "v"
   ]
  },
  {
   "cell_type": "code",
   "execution_count": 51,
   "metadata": {},
   "outputs": [
    {
     "data": {
      "text/plain": [
       "2.23606797749979"
      ]
     },
     "execution_count": 51,
     "metadata": {},
     "output_type": "execute_result"
    }
   ],
   "source": [
    "np.linalg.norm(v)"
   ]
  },
  {
   "cell_type": "code",
   "execution_count": 52,
   "metadata": {},
   "outputs": [
    {
     "data": {
      "text/plain": [
       "array([ 1,  3,  5,  7,  9, 11, 13, 15, 17, 19, 21, 23, 25, 27, 29, 31, 33,\n",
       "       35, 37, 39, 41, 43, 45, 47, 49, 51, 53, 55, 57, 59, 61, 63, 65, 67,\n",
       "       69, 71, 73, 75, 77, 79, 81, 83, 85, 87, 89, 91, 93, 95, 97, 99])"
      ]
     },
     "execution_count": 52,
     "metadata": {},
     "output_type": "execute_result"
    }
   ],
   "source": [
    "lista = np.arange(0,100)\n",
    "lista[lista % 2 == 1]"
   ]
  },
  {
   "cell_type": "code",
   "execution_count": 53,
   "metadata": {},
   "outputs": [
    {
     "data": {
      "text/plain": [
       "array([9, 8, 7, 6, 5, 4, 3, 2, 1, 0])"
      ]
     },
     "execution_count": 53,
     "metadata": {},
     "output_type": "execute_result"
    }
   ],
   "source": [
    "np.flip(np.arange(10), 0)"
   ]
  },
  {
   "cell_type": "code",
   "execution_count": 54,
   "metadata": {},
   "outputs": [
    {
     "data": {
      "text/plain": [
       "array([[0, 1, 2],\n",
       "       [3, 4, 5],\n",
       "       [6, 7, 8]])"
      ]
     },
     "execution_count": 54,
     "metadata": {},
     "output_type": "execute_result"
    }
   ],
   "source": [
    "np.arange(9).reshape(3,3)"
   ]
  },
  {
   "cell_type": "code",
   "execution_count": 55,
   "metadata": {},
   "outputs": [
    {
     "data": {
      "text/plain": [
       "array([[2, 1, 0],\n",
       "       [5, 4, 3],\n",
       "       [8, 7, 6]])"
      ]
     },
     "execution_count": 55,
     "metadata": {},
     "output_type": "execute_result"
    }
   ],
   "source": [
    "np.fliplr(np.arange(9).reshape(3,3))"
   ]
  },
  {
   "cell_type": "code",
   "execution_count": 56,
   "metadata": {},
   "outputs": [
    {
     "data": {
      "text/plain": [
       "array([[6, 7, 8],\n",
       "       [3, 4, 5],\n",
       "       [0, 1, 2]])"
      ]
     },
     "execution_count": 56,
     "metadata": {},
     "output_type": "execute_result"
    }
   ],
   "source": [
    "np.flipud(np.arange(9).reshape(3,3))"
   ]
  },
  {
   "cell_type": "markdown",
   "metadata": {},
   "source": [
    "# Matplotlib"
   ]
  },
  {
   "cell_type": "code",
   "execution_count": 57,
   "metadata": {},
   "outputs": [
    {
     "data": {
      "text/html": [
       "\n",
       "        <iframe\n",
       "            width=\"100%\"\n",
       "            height=\"500px\"\n",
       "            src=\"http://matplotlib.org\"\n",
       "            frameborder=\"0\"\n",
       "            allowfullscreen\n",
       "        ></iframe>\n",
       "        "
      ],
      "text/plain": [
       "<IPython.lib.display.IFrame at 0x11cf17160>"
      ]
     },
     "execution_count": 57,
     "metadata": {},
     "output_type": "execute_result"
    }
   ],
   "source": [
    "from IPython.display import IFrame\n",
    "IFrame(src=\"http://matplotlib.org\", width='100%', height='500px')"
   ]
  },
  {
   "cell_type": "code",
   "execution_count": 58,
   "metadata": {},
   "outputs": [],
   "source": [
    "import matplotlib.pyplot as plt"
   ]
  },
  {
   "cell_type": "markdown",
   "metadata": {},
   "source": [
    "## Dibujando cositas"
   ]
  },
  {
   "cell_type": "code",
   "execution_count": 59,
   "metadata": {},
   "outputs": [
    {
     "data": {
      "text/plain": [
       "<matplotlib.legend.Legend at 0x11df45c88>"
      ]
     },
     "execution_count": 59,
     "metadata": {},
     "output_type": "execute_result"
    },
    {
     "data": {
      "image/png": "[encoded data removed]",
      "text/plain": [
       "<Figure size 432x288 with 1 Axes>"
      ]
     },
     "metadata": {
      "needs_background": "light"
     },
     "output_type": "display_data"
    }
   ],
   "source": [
    "fig = plt.figure()\n",
    "ax = fig.add_subplot(111)# *nrows*, *ncols*, and *index*\n",
    "ax.plot(np.arange(100),np.random.random_sample(100), \"-r\", label=\"Numeros Random\")\n",
    "ax.legend()"
   ]
  },
  {
   "cell_type": "code",
   "execution_count": 60,
   "metadata": {},
   "outputs": [
    {
     "data": {
      "text/plain": [
       "<matplotlib.legend.Legend at 0x11e078780>"
      ]
     },
     "execution_count": 60,
     "metadata": {},
     "output_type": "execute_result"
    },
    {
     "data": {
      "image/png": "[encoded data removed]",
      "text/plain": [
       "<Figure size 432x288 with 2 Axes>"
      ]
     },
     "metadata": {
      "needs_background": "light"
     },
     "output_type": "display_data"
    }
   ],
   "source": [
    "fig = plt.figure()\n",
    "ax = fig.add_subplot(211) #*nrows*, *ncols*, and *index*\n",
    "ax.plot(np.arange(100),np.random.random_sample(100), \"-r\", label=\"Random Red\")\n",
    "ax.legend()\n",
    "ax = fig.add_subplot(212) #*nrows*, *ncols*, and *index*\n",
    "ax.plot(np.arange(100),np.random.random_sample(100), \"-b\", label=\"Random Blue\")\n",
    "ax.legend()"
   ]
  },
  {
   "cell_type": "code",
   "execution_count": 61,
   "metadata": {},
   "outputs": [
    {
     "data": {
      "text/plain": [
       "<matplotlib.legend.Legend at 0x11e180278>"
      ]
     },
     "execution_count": 61,
     "metadata": {},
     "output_type": "execute_result"
    },
    {
     "data": {
      "image/png": "[encoded data removed]",
      "text/plain": [
       "<Figure size 432x288 with 1 Axes>"
      ]
     },
     "metadata": {
      "needs_background": "light"
     },
     "output_type": "display_data"
    }
   ],
   "source": [
    "fig = plt.figure()\n",
    "ax = fig.add_subplot(111)\n",
    "ax.scatter([0, 1, 2, 3],[0, 1, 2, 3], s=50, c=\"r\", label=\"Pelotas\")\n",
    "ax.legend()"
   ]
  },
  {
   "cell_type": "code",
   "execution_count": 62,
   "metadata": {},
   "outputs": [
    {
     "data": {
      "text/plain": [
       "<matplotlib.legend.Legend at 0x11e2c5668>"
      ]
     },
     "execution_count": 62,
     "metadata": {},
     "output_type": "execute_result"
    },
    {
     "data": {
      "image/png": "[encoded data removed]",
      "text/plain": [
       "<Figure size 432x288 with 1 Axes>"
      ]
     },
     "metadata": {
      "needs_background": "light"
     },
     "output_type": "display_data"
    }
   ],
   "source": [
    "from mpl_toolkits.mplot3d import Axes3D\n",
    "fig = plt.figure()\n",
    "ax = fig.add_subplot(111, projection='3d')\n",
    "ax.scatter(np.random.random_sample(size=20), \n",
    "           np.random.random_sample(size=20), \n",
    "           np.random.random_sample(size=20), s=50, c=\"b\", depthshade=True, label=\"Pelotitas Azules\")\n",
    "\n",
    "ax.scatter(np.random.random_sample(size=20), \n",
    "           np.random.random_sample(size=20), \n",
    "           np.random.random_sample(size=20), s=50, c=\"r\", depthshade=True, label=\"Pelotitas Rojas\")\n",
    "\n",
    "\n",
    "ax.legend()"
   ]
  },
  {
   "cell_type": "code",
   "execution_count": 63,
   "metadata": {},
   "outputs": [
    {
     "data": {
      "text/plain": [
       "<matplotlib.legend.Legend at 0x11e351ac8>"
      ]
     },
     "execution_count": 63,
     "metadata": {},
     "output_type": "execute_result"
    },
    {
     "data": {
      "image/png": "[encoded data removed]",
      "text/plain": [
       "<Figure size 432x288 with 1 Axes>"
      ]
     },
     "metadata": {
      "needs_background": "light"
     },
     "output_type": "display_data"
    }
   ],
   "source": [
    "fig = plt.figure()\n",
    "ax = fig.add_subplot(111, projection='3d')\n",
    "ax.plot(np.arange(10), \n",
    "        np.arange(10), \n",
    "        np.arange(10), c=\"b\", label=\"Linea_1\")\n",
    "ax.plot(np.arange(10)* -1, \n",
    "        np.arange(10), \n",
    "        np.arange(10), c=\"r\", label=\"Linea_2\")\n",
    "ax.legend()"
   ]
  },
  {
   "cell_type": "code",
   "execution_count": 87,
   "metadata": {},
   "outputs": [
    {
     "data": {
      "text/plain": [
       "Text(0.5, 1.0, 'Algo')"
      ]
     },
     "execution_count": 87,
     "metadata": {},
     "output_type": "execute_result"
    },
    {
     "data": {
      "image/png": "[encoded data removed]",
      "text/plain": [
       "<Figure size 640x480 with 1 Axes>"
      ]
     },
     "metadata": {},
     "output_type": "display_data"
    }
   ],
   "source": [
    "fig = plt.figure()\n",
    "ax = fig.add_subplot(111)\n",
    "ax.bar([0, 1, 2, 3], [30, 20, 10, 90], align='center')\n",
    "ax.set_xticks(y_pos)\n",
    "ax.set_xticklabels([\"algo\", \"algo_1\", \"algo_2\", \"algo_3\"])\n",
    "ax.set_ylabel('%')\n",
    "ax.set_title('Algo')"
   ]
  },
  {
   "cell_type": "code",
   "execution_count": 73,
   "metadata": {},
   "outputs": [
    {
     "data": {
      "text/plain": [
       "Text(0.5, 1.0, 'Cuanto corren mis compañeros?')"
      ]
     },
     "execution_count": 73,
     "metadata": {},
     "output_type": "execute_result"
    },
    {
     "data": {
      "image/png": "[encoded data removed]",
      "text/plain": [
       "<Figure size 640x480 with 1 Axes>"
      ]
     },
     "metadata": {},
     "output_type": "display_data"
    }
   ],
   "source": [
    "fig = plt.figure()\n",
    "ax = fig.add_subplot(111)\n",
    "# Example data\n",
    "personas = ('Tom', 'Dick', 'Harry', 'Slim', 'Jim')\n",
    "y_pos = np.arange(len(personas))\n",
    "performance = 3 + 10 * np.random.rand(len(personas))\n",
    "ax.barh(y_pos, performance, align='center')\n",
    "ax.set_yticks(y_pos)\n",
    "ax.set_yticklabels(personas)\n",
    "ax.set_xlabel('Metros')\n",
    "ax.set_title('Cuanto corren mis compañeros?')"
   ]
  },
  {
   "cell_type": "code",
   "execution_count": 79,
   "metadata": {},
   "outputs": [
    {
     "data": {
      "text/plain": [
       "Text(0.5, 1.0, 'Cuanto corren mis compañeros?')"
      ]
     },
     "execution_count": 79,
     "metadata": {},
     "output_type": "execute_result"
    },
    {
     "data": {
      "image/png": "[encoded data removed]",
      "text/plain": [
       "<Figure size 640x480 with 1 Axes>"
      ]
     },
     "metadata": {},
     "output_type": "display_data"
    }
   ],
   "source": [
    "fig = plt.figure()\n",
    "ax = fig.add_subplot(111)\n",
    "personas = ('Tom', 'Dick', 'Harry', 'Slim', 'Jim')\n",
    "y_pos = np.arange(len(personas))\n",
    "performance = 3 + 10 * np.random.rand(len(personas))\n",
    "ax.bar(y_pos, performance, align='center')\n",
    "ax.set_xticks(y_pos)\n",
    "ax.set_xticklabels(personas)\n",
    "ax.set_ylabel('Metros')\n",
    "ax.set_title('Cuanto corren mis compañeros?')"
   ]
  }
 ],
 "metadata": {
  "kernelspec": {
   "display_name": "dlearning",
   "language": "python",
   "name": "dlearning"
  },
  "language_info": {
   "codemirror_mode": {
    "name": "ipython",
    "version": 3
   },
   "file_extension": ".py",
   "mimetype": "text/x-python",
   "name": "python",
   "nbconvert_exporter": "python",
   "pygments_lexer": "ipython3",
   "version": "3.7.3"
  }
 },
 "nbformat": 4,
 "nbformat_minor": 4
}
