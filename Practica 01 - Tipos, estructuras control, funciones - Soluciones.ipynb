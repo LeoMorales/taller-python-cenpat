{
 "cells": [
  {
   "cell_type": "markdown",
   "metadata": {},
   "source": [
    "# Practica 1 - Soluciones"
   ]
  },
  {
   "cell_type": "markdown",
   "metadata": {},
   "source": [
    "## Sentencia condicional If:"
   ]
  },
  {
   "cell_type": "markdown",
   "metadata": {},
   "source": [
    "__Ejercicio 1__\n",
    "\n",
    "Verificar si un año es bisiesto:\n",
    "\n",
    "    Un numero representa a un año bisiesto si es divisible\n",
    "    entre 4 (como 2004 y 2008) excepto si es divisible entre\n",
    "    100, entonces no es bisiesto (como 2100, 2200, etc)\n",
    "    excepto si es divisible entre 400,\n",
    "    entonces sí (como 2000, 2400)\n"
   ]
  },
  {
   "cell_type": "raw",
   "metadata": {},
   "source": [
    "Ayuda:\n",
    "si ( condicion ) entonces\n",
    "    mostrar(\"El año es bisiesto\")\n",
    "sino\n",
    "    mostrar(\"El año no es bisiesto\")"
   ]
  },
  {
   "cell_type": "code",
   "execution_count": 1,
   "metadata": {},
   "outputs": [],
   "source": [
    "year = 2000"
   ]
  },
  {
   "cell_type": "code",
   "execution_count": 3,
   "metadata": {},
   "outputs": [
    {
     "name": "stdout",
     "output_type": "stream",
     "text": [
      "El año 2000 es bisiesto\n"
     ]
    }
   ],
   "source": [
    "if ( year % 4 == 0 and year % 100 != 0 ) or year % 400 == 0:\n",
    "    print(f'El año {year} es bisiesto')\n",
    "else:\n",
    "    print(f'El año {year} NO es bisiesto')"
   ]
  },
  {
   "cell_type": "code",
   "execution_count": 9,
   "metadata": {},
   "outputs": [],
   "source": [
    "years = [2004, 2008, 2020, 2001]"
   ]
  },
  {
   "cell_type": "code",
   "execution_count": 10,
   "metadata": {},
   "outputs": [],
   "source": [
    "years.append(int(input('Ingrese otro año')))"
   ]
  },
  {
   "cell_type": "code",
   "execution_count": 11,
   "metadata": {},
   "outputs": [
    {
     "data": {
      "text/plain": [
       "[2004, 2008, 2020, 2001, 2019]"
      ]
     },
     "execution_count": 11,
     "metadata": {},
     "output_type": "execute_result"
    }
   ],
   "source": [
    "years"
   ]
  },
  {
   "cell_type": "code",
   "execution_count": 12,
   "metadata": {},
   "outputs": [
    {
     "name": "stdout",
     "output_type": "stream",
     "text": [
      "El año 2004 es bisiesto\n",
      "El año 2008 es bisiesto\n",
      "El año 2020 es bisiesto\n",
      "El año 2001 NO es bisiesto\n",
      "El año 2019 NO es bisiesto\n"
     ]
    }
   ],
   "source": [
    "for year in years:\n",
    "    if ( year % 4 == 0 and year % 100 != 0 ) or year % 400 == 0:\n",
    "        print(f'El año {year} es bisiesto')\n",
    "    else:\n",
    "        print(f'El año {year} NO es bisiesto')"
   ]
  },
  {
   "cell_type": "markdown",
   "metadata": {},
   "source": [
    "\n",
    "__Ejercicio 2__\n",
    "\n",
    "Dado un mes,  indicar en qué estación del año se encuentra, o si no corresponde a un número de mes válido."
   ]
  },
  {
   "cell_type": "code",
   "execution_count": 6,
   "metadata": {},
   "outputs": [],
   "source": [
    "mes_usuario = int(input('Ingrese un mes: '))"
   ]
  },
  {
   "cell_type": "code",
   "execution_count": 7,
   "metadata": {},
   "outputs": [
    {
     "name": "stdout",
     "output_type": "stream",
     "text": [
      "2\n"
     ]
    }
   ],
   "source": [
    "print(mes_usuario)"
   ]
  },
  {
   "cell_type": "code",
   "execution_count": 1,
   "metadata": {},
   "outputs": [],
   "source": [
    "# Verificar mes aquí:\n"
   ]
  },
  {
   "cell_type": "markdown",
   "metadata": {},
   "source": [
    "## Bucles:"
   ]
  },
  {
   "cell_type": "markdown",
   "metadata": {},
   "source": [
    "__Ejercicio 3__\n",
    "\n",
    "Escribir las instrucciones necesarias para solicitar un número al usuario para luego dibujar un medio triangulo hasta el tope recibido.\n",
    "Por ejemplo, si se ingresa un 5, el resultado debe ser:\n",
    "\n",
    "```\n",
    "1\n",
    "12\n",
    "123\n",
    "1234\n",
    "12345\n",
    "```\n",
    "\n",
    "Utilizar la función _input_ para solicitar un número.\n",
    "\n",
    "Tip 1: Recordar la utilidad de la función _range_.\n",
    "\n",
    "Tip 2: Recordar que con __+__ concatenamos cadenas.\n",
    "\n",
    "Tip 3: Para cambiar un valor *X* de tipo int al tipo str debemos usar _str(X)_."
   ]
  },
  {
   "cell_type": "code",
   "execution_count": 10,
   "metadata": {},
   "outputs": [],
   "source": [
    "# Código aquí:"
   ]
  },
  {
   "cell_type": "code",
   "execution_count": null,
   "metadata": {},
   "outputs": [],
   "source": []
  },
  {
   "cell_type": "markdown",
   "metadata": {},
   "source": [
    "__Ejercicio 4__\n",
    "\n",
    "Escribir las instrucciones necesarias para que, dada una lista de nombres, se muestre un saludo a cada uno.\n",
    "Por ejemplo, dada la lista:\n",
    "```\n",
    "lista = ['Maria', 'Juan', 'Eva', 'José']\n",
    "```\n",
    "    \n",
    "el resultado debe ser:\n",
    "```\n",
    "    'Hola Maria!'\n",
    "    'Hola Juan!'\n",
    "    'Hola Eva!'\n",
    "    'Hola José!'\n",
    "```\n",
    "\n"
   ]
  },
  {
   "cell_type": "code",
   "execution_count": 10,
   "metadata": {},
   "outputs": [],
   "source": [
    "# Código aquí:"
   ]
  },
  {
   "cell_type": "code",
   "execution_count": 13,
   "metadata": {},
   "outputs": [],
   "source": [
    "lista = ['Maria', 'Juan', 'Eva', 'José']"
   ]
  },
  {
   "cell_type": "code",
   "execution_count": 17,
   "metadata": {},
   "outputs": [
    {
     "name": "stdout",
     "output_type": "stream",
     "text": [
      "Hola Maria!\n",
      "Hola Juan!\n",
      "Hola Eva!\n",
      "Hola José!\n"
     ]
    }
   ],
   "source": [
    "for i in lista:\n",
    "    #print('Hola', i, '!')\n",
    "    # si hacemos lista[i] --> lista['Maria']\n",
    "    print('Hola {}!'.format(i))"
   ]
  },
  {
   "cell_type": "markdown",
   "metadata": {},
   "source": [
    "__Ejercicio 5__\n",
    "\n",
    "Escribir las instrucciones necesarias para que, dada una lista de numeros, se generen dos listas, con los valores mayores y menores a un valor ingresado por el usuario.\n",
    "\n",
    "Por ejemplo, dada la lista:\n",
    "```\n",
    "lista = [170, 205, 172, 165, 182, 190, 183]\n",
    "```\n",
    "\n",
    "Si el número ingresado es 180, el resultado debe ser:\n",
    "```\n",
    "mayores = [205, 182, 190, 183]\n",
    "menores = [170, 172, 165]\n",
    "```"
   ]
  },
  {
   "cell_type": "code",
   "execution_count": 12,
   "metadata": {},
   "outputs": [],
   "source": [
    "# código aquí:"
   ]
  },
  {
   "cell_type": "code",
   "execution_count": 18,
   "metadata": {},
   "outputs": [],
   "source": [
    "lista = [170, 205, 172, 165, 182, 190, 183]"
   ]
  },
  {
   "cell_type": "code",
   "execution_count": 19,
   "metadata": {},
   "outputs": [],
   "source": [
    "valor = int(input('Ingrese la altura a comparar'))"
   ]
  },
  {
   "cell_type": "code",
   "execution_count": 30,
   "metadata": {},
   "outputs": [],
   "source": [
    "valor = input('Ingrese la altura a comparar')"
   ]
  },
  {
   "cell_type": "code",
   "execution_count": 31,
   "metadata": {},
   "outputs": [
    {
     "data": {
      "text/plain": [
       "True"
      ]
     },
     "execution_count": 31,
     "metadata": {},
     "output_type": "execute_result"
    }
   ],
   "source": [
    "valor.isdigit()"
   ]
  },
  {
   "cell_type": "code",
   "execution_count": null,
   "metadata": {},
   "outputs": [],
   "source": []
  },
  {
   "cell_type": "code",
   "execution_count": 20,
   "metadata": {},
   "outputs": [
    {
     "name": "stdout",
     "output_type": "stream",
     "text": [
      "180\n"
     ]
    }
   ],
   "source": [
    "print(valor)"
   ]
  },
  {
   "cell_type": "code",
   "execution_count": 21,
   "metadata": {},
   "outputs": [
    {
     "data": {
      "text/plain": [
       "int"
      ]
     },
     "execution_count": 21,
     "metadata": {},
     "output_type": "execute_result"
    }
   ],
   "source": [
    "type(valor)"
   ]
  },
  {
   "cell_type": "code",
   "execution_count": 25,
   "metadata": {},
   "outputs": [],
   "source": [
    "mayores = []\n",
    "menores = list()\n",
    "\n",
    "for altura in lista:\n",
    "    #print(altura)\n",
    "    if altura > valor:\n",
    "        #print('Altura mayor:', altura)\n",
    "        mayores.append(altura)\n",
    "    else:\n",
    "        #print('Altura menor o igual:', altura)\n",
    "        menores.append(altura)"
   ]
  },
  {
   "cell_type": "code",
   "execution_count": 26,
   "metadata": {},
   "outputs": [
    {
     "data": {
      "text/plain": [
       "[205, 182, 190, 183]"
      ]
     },
     "execution_count": 26,
     "metadata": {},
     "output_type": "execute_result"
    }
   ],
   "source": [
    "mayores"
   ]
  },
  {
   "cell_type": "code",
   "execution_count": 27,
   "metadata": {},
   "outputs": [
    {
     "data": {
      "text/plain": [
       "[170, 172, 165]"
      ]
     },
     "execution_count": 27,
     "metadata": {},
     "output_type": "execute_result"
    }
   ],
   "source": [
    "menores"
   ]
  },
  {
   "cell_type": "markdown",
   "metadata": {},
   "source": [
    "## Funciones"
   ]
  },
  {
   "cell_type": "markdown",
   "metadata": {},
   "source": [
    "**Ejercicio 6**\n",
    "\n",
    "Implementar la función valor absoluto:\n",
    "    \n",
    "    > valor_absoluto(-10)\n",
    "    > 10"
   ]
  },
  {
   "cell_type": "code",
   "execution_count": 13,
   "metadata": {},
   "outputs": [],
   "source": [
    "# Inserte su código aquí:"
   ]
  },
  {
   "cell_type": "code",
   "execution_count": 32,
   "metadata": {},
   "outputs": [],
   "source": [
    "def valor_absoluto(valor):\n",
    "    return valor * -1 if valor < 0 else valor"
   ]
  },
  {
   "cell_type": "code",
   "execution_count": 33,
   "metadata": {},
   "outputs": [
    {
     "data": {
      "text/plain": [
       "10"
      ]
     },
     "execution_count": 33,
     "metadata": {},
     "output_type": "execute_result"
    }
   ],
   "source": [
    "valor_absoluto(-10)"
   ]
  },
  {
   "cell_type": "code",
   "execution_count": 34,
   "metadata": {},
   "outputs": [
    {
     "data": {
      "text/plain": [
       "10"
      ]
     },
     "execution_count": 34,
     "metadata": {},
     "output_type": "execute_result"
    }
   ],
   "source": [
    "valor_absoluto(10)"
   ]
  },
  {
   "cell_type": "code",
   "execution_count": 3,
   "metadata": {},
   "outputs": [],
   "source": [
    "frase = 'hola como andas'"
   ]
  },
  {
   "cell_type": "code",
   "execution_count": 4,
   "metadata": {},
   "outputs": [
    {
     "data": {
      "text/plain": [
       "True"
      ]
     },
     "execution_count": 4,
     "metadata": {},
     "output_type": "execute_result"
    }
   ],
   "source": [
    "frase.islower()"
   ]
  },
  {
   "cell_type": "code",
   "execution_count": 5,
   "metadata": {},
   "outputs": [],
   "source": [
    "gritando = frase.upper() if frase.islower() else frase"
   ]
  },
  {
   "cell_type": "code",
   "execution_count": 6,
   "metadata": {},
   "outputs": [
    {
     "data": {
      "text/plain": [
       "'HOLA COMO ANDAS'"
      ]
     },
     "execution_count": 6,
     "metadata": {},
     "output_type": "execute_result"
    }
   ],
   "source": [
    "gritando"
   ]
  },
  {
   "cell_type": "markdown",
   "metadata": {},
   "source": [
    "**Ejercicio 7**\n",
    "\n",
    "Implementar una funcion que reciba:\n",
    "- Una lista de precio unitario de elementos de supermercado\n",
    "- Una lista de cantidades de elementos que corresponda con la lista anterior\n",
    "- Un descuento aplicado a la compra total\n",
    "\n",
    "Y retorne el importe a abonar en la compra:\n",
    "    \n",
    "Por ejemplo recibidas las listas:\n",
    "\n",
    "    > elementos = [10, 20, 30]\n",
    "    > cantidades = [3, 2, 1]\n",
    "    > descuento = 10\n",
    "    \n",
    "El resultado debe ser:\n",
    "\n",
    "    > 90"
   ]
  },
  {
   "cell_type": "code",
   "execution_count": 13,
   "metadata": {},
   "outputs": [],
   "source": [
    "# Inserte su código aquí:"
   ]
  },
  {
   "cell_type": "code",
   "execution_count": 65,
   "metadata": {},
   "outputs": [],
   "source": [
    "def obtener_importe(elementos, cantidades, descuento):\n",
    "    # si las longitudes de las listas no coinciden: salir\n",
    "    #if len(elementos) != len(cantidades):\n",
    "    #    print('No puedo trabajar asi!!')\n",
    "    #    return\n",
    "    \n",
    "    # acumular\n",
    "    acum = 0\n",
    "    for elemento, cantidad in zip(elementos, cantidades):\n",
    "        #print('Elemento cuesta $', elemento)\n",
    "        #print('Compre:', cantidad)\n",
    "        #print('$', elemento * cantidad)\n",
    "        acum += elemento * cantidad\n",
    "        # Lo de arriba es igual a: acum = acum + elemento * cantidad\n",
    "    \n",
    "    # aplicar descuento\n",
    "    importe = acum - (descuento * acum / 100 )\n",
    "    # retornar importe\n",
    "    return importe"
   ]
  },
  {
   "cell_type": "code",
   "execution_count": 68,
   "metadata": {},
   "outputs": [
    {
     "data": {
      "text/plain": [
       "411.3"
      ]
     },
     "execution_count": 68,
     "metadata": {},
     "output_type": "execute_result"
    }
   ],
   "source": [
    "obtener_importe([100, 12, 56, 23, 12], [1, 5, 2, 7,2], 10)"
   ]
  },
  {
   "cell_type": "code",
   "execution_count": 64,
   "metadata": {},
   "outputs": [
    {
     "data": {
      "text/plain": [
       "90.0"
      ]
     },
     "execution_count": 64,
     "metadata": {},
     "output_type": "execute_result"
    }
   ],
   "source": [
    "obtener_importe(elementos, cantidades, 10)"
   ]
  },
  {
   "cell_type": "markdown",
   "metadata": {},
   "source": [
    "Borrador:"
   ]
  },
  {
   "cell_type": "raw",
   "metadata": {},
   "source": [
    "\n",
    "\n",
    "\n"
   ]
  },
  {
   "cell_type": "code",
   "execution_count": 45,
   "metadata": {},
   "outputs": [],
   "source": [
    "elementos = [10, 20, 30, 50]\n",
    "cantidades = [3, 2, 1]"
   ]
  },
  {
   "cell_type": "markdown",
   "metadata": {},
   "source": [
    "La función __zip__ combina dos listas elemento a elemento"
   ]
  },
  {
   "cell_type": "code",
   "execution_count": 46,
   "metadata": {},
   "outputs": [
    {
     "data": {
      "text/plain": [
       "[(10, 3), (20, 2), (30, 1)]"
      ]
     },
     "execution_count": 46,
     "metadata": {},
     "output_type": "execute_result"
    }
   ],
   "source": [
    "list(zip(elementos, cantidades))"
   ]
  },
  {
   "cell_type": "code",
   "execution_count": 47,
   "metadata": {},
   "outputs": [
    {
     "name": "stdout",
     "output_type": "stream",
     "text": [
      "(10, 3)\n",
      "(20, 2)\n",
      "(30, 1)\n"
     ]
    }
   ],
   "source": [
    "for compra in zip(elementos, cantidades):\n",
    "    print(compra)"
   ]
  },
  {
   "cell_type": "code",
   "execution_count": 48,
   "metadata": {},
   "outputs": [
    {
     "name": "stdout",
     "output_type": "stream",
     "text": [
      "10\n",
      "20\n",
      "30\n"
     ]
    }
   ],
   "source": [
    "for compra in zip(elementos, cantidades):\n",
    "    print(compra[0])"
   ]
  },
  {
   "cell_type": "code",
   "execution_count": 49,
   "metadata": {},
   "outputs": [
    {
     "name": "stdout",
     "output_type": "stream",
     "text": [
      "3\n",
      "2\n",
      "1\n"
     ]
    }
   ],
   "source": [
    "for compra in zip(elementos, cantidades):\n",
    "    print(compra[1])"
   ]
  },
  {
   "cell_type": "code",
   "execution_count": 49,
   "metadata": {},
   "outputs": [
    {
     "name": "stdout",
     "output_type": "stream",
     "text": [
      "3\n",
      "2\n",
      "1\n"
     ]
    }
   ],
   "source": [
    "for compra in zip(elementos, cantidades):\n",
    "    print(compra[1])"
   ]
  },
  {
   "cell_type": "code",
   "execution_count": 69,
   "metadata": {},
   "outputs": [
    {
     "name": "stdout",
     "output_type": "stream",
     "text": [
      "Elemento cuesta $ 10\n",
      "Compré: 3\n",
      "$ 30\n",
      "Elemento cuesta $ 20\n",
      "Compré: 2\n",
      "$ 40\n",
      "Elemento cuesta $ 30\n",
      "Compré: 1\n",
      "$ 30\n"
     ]
    }
   ],
   "source": [
    "for compra in zip(elementos, cantidades):\n",
    "    print('Elemento cuesta $', compra[0])\n",
    "    print('Compré:', compra[1])\n",
    "    print('$', compra[0] * compra[1])"
   ]
  },
  {
   "cell_type": "code",
   "execution_count": null,
   "metadata": {},
   "outputs": [],
   "source": []
  }
 ],
 "metadata": {
  "kernelspec": {
   "display_name": "Python 3",
   "language": "python",
   "name": "python3"
  },
  "language_info": {
   "codemirror_mode": {
    "name": "ipython",
    "version": 3
   },
   "file_extension": ".py",
   "mimetype": "text/x-python",
   "name": "python",
   "nbconvert_exporter": "python",
   "pygments_lexer": "ipython3",
   "version": "3.6.5"
  },
  "toc": {
   "base_numbering": 1,
   "nav_menu": {},
   "number_sections": true,
   "sideBar": true,
   "skip_h1_title": false,
   "title_cell": "Table of Contents",
   "title_sidebar": "Contents",
   "toc_cell": false,
   "toc_position": {},
   "toc_section_display": true,
   "toc_window_display": false
  }
 },
 "nbformat": 4,
 "nbformat_minor": 2
}
