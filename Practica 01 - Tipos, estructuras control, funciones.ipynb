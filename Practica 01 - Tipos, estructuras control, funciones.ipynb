{
 "cells": [
  {
   "cell_type": "markdown",
   "metadata": {},
   "source": [
    "## Sentencia condicional If:"
   ]
  },
  {
   "cell_type": "markdown",
   "metadata": {},
   "source": [
    "__Ejercicio 1__\n",
    "\n",
    "Verificar si un año es bisiesto:\n",
    "\n",
    "    Un numero representa a un año bisiesto si es divisible entre 4 (como 2004 y 2008) excepto si es \n",
    "    divisible entre 100, entonces no es bisiesto (como 2100, 2200, etc) excepto si es divisible entre \n",
    "    400, entonces sí (como 2000, 2400)\n"
   ]
  },
  {
   "cell_type": "raw",
   "metadata": {},
   "source": [
    "Ayuda:\n",
    "si ( condicion ) entonces\n",
    "    mostrar(\"El año es bisiesto\")\n",
    "sino\n",
    "    mostrar(\"El año no es bisiesto\")"
   ]
  },
  {
   "cell_type": "code",
   "execution_count": 2,
   "metadata": {},
   "outputs": [],
   "source": [
    "year = 2000"
   ]
  },
  {
   "cell_type": "markdown",
   "metadata": {},
   "source": [
    "\n",
    "__Ejercicio 2__\n",
    "\n",
    "Dado un mes,  indicar en qué estación del año se encuentra, o si no corresponde a un número de mes válido."
   ]
  },
  {
   "cell_type": "code",
   "execution_count": 6,
   "metadata": {},
   "outputs": [],
   "source": [
    "mes_usuario = int(input('Ingrese un mes: '))"
   ]
  },
  {
   "cell_type": "code",
   "execution_count": 7,
   "metadata": {},
   "outputs": [
    {
     "name": "stdout",
     "output_type": "stream",
     "text": [
      "2\n"
     ]
    }
   ],
   "source": [
    "print(mes_usuario)"
   ]
  },
  {
   "cell_type": "code",
   "execution_count": 1,
   "metadata": {},
   "outputs": [],
   "source": [
    "# Verificar mes aquí:\n"
   ]
  },
  {
   "cell_type": "markdown",
   "metadata": {},
   "source": [
    "## Bucles:"
   ]
  },
  {
   "cell_type": "markdown",
   "metadata": {},
   "source": [
    "__Ejercicio 3__\n",
    "\n",
    "Escribir las instrucciones necesarias para solicitar un número al usuario para luego dibujar un medio triangulo hasta el tope recibido.\n",
    "Por ejemplo, si se ingresa un 5, el resultado debe ser:\n",
    "\n",
    "```\n",
    "1\n",
    "12\n",
    "123\n",
    "1234\n",
    "12345\n",
    "```\n",
    "\n",
    "Utilizar la función _input_ para solicitar un número.\n",
    "\n",
    "Tip 1: Recordar la utilidad de la función _range_.\n",
    "\n",
    "Tip 2: Recordar que con __+__ concatenamos cadenas.\n",
    "\n",
    "Tip 3: Para cambiar un valor *X* de tipo int al tipo str debemos usar _str(X)_."
   ]
  },
  {
   "cell_type": "code",
   "execution_count": 10,
   "metadata": {},
   "outputs": [],
   "source": [
    "# Código aquí:"
   ]
  },
  {
   "cell_type": "code",
   "execution_count": null,
   "metadata": {},
   "outputs": [],
   "source": []
  },
  {
   "cell_type": "markdown",
   "metadata": {},
   "source": [
    "__Ejercicio 4__\n",
    "\n",
    "Escribir las instrucciones necesarias para que, dada una lista de nombres, se muestre un saludo a cada uno.\n",
    "Por ejemplo, dada la lista:\n",
    "```\n",
    "lista = ['Maria', 'Juan', 'Eva', 'José']\n",
    "```\n",
    "    \n",
    "el resultado debe ser:\n",
    "```\n",
    "    'Hola Maria!'\n",
    "    'Hola Juan!'\n",
    "    'Hola Eva!'\n",
    "    'Hola José!'\n",
    "```\n",
    "\n"
   ]
  },
  {
   "cell_type": "code",
   "execution_count": 10,
   "metadata": {},
   "outputs": [],
   "source": [
    "# Código aquí:"
   ]
  },
  {
   "cell_type": "code",
   "execution_count": null,
   "metadata": {},
   "outputs": [],
   "source": []
  },
  {
   "cell_type": "markdown",
   "metadata": {},
   "source": [
    "__Ejercicio 5__\n",
    "\n",
    "Escribir las instrucciones necesarias para que, dada una lista de numeros, se generen dos listas, con los valores mayores y menores a un valor ingresado por el usuario.\n",
    "\n",
    "Por ejemplo, dada la lista:\n",
    "```\n",
    "lista = [170, 205, 172, 165, 182, 190, 183]\n",
    "```\n",
    "\n",
    "Si el número ingresado es 180, el resultado debe ser:\n",
    "```\n",
    "mayores = [205, 182, 190, 183]\n",
    "menores = [170, 172, 165]\n",
    "```"
   ]
  },
  {
   "cell_type": "code",
   "execution_count": 12,
   "metadata": {},
   "outputs": [],
   "source": [
    "# código aquí:"
   ]
  },
  {
   "cell_type": "code",
   "execution_count": null,
   "metadata": {},
   "outputs": [],
   "source": []
  },
  {
   "cell_type": "markdown",
   "metadata": {},
   "source": [
    "## Funciones"
   ]
  },
  {
   "cell_type": "markdown",
   "metadata": {},
   "source": [
    "**Ejercicio 6**\n",
    "\n",
    "Implementar la función valor absoluto:\n",
    "    \n",
    "    > valor_absoluto(-10)\n",
    "    > 10"
   ]
  },
  {
   "cell_type": "code",
   "execution_count": 13,
   "metadata": {},
   "outputs": [],
   "source": [
    "# Inserte su código aquí:"
   ]
  },
  {
   "cell_type": "code",
   "execution_count": null,
   "metadata": {},
   "outputs": [],
   "source": []
  },
  {
   "cell_type": "markdown",
   "metadata": {},
   "source": [
    "**Ejercicio 7**\n",
    "\n",
    "Implementar una funcion que reciba:\n",
    "- Una lista de precio unitario de elementos de supermercado\n",
    "- Una lista de cantidades de elementos que corresponda con la lista anterior\n",
    "- Un descuento aplicado a la compra total\n",
    "\n",
    "Y retorne el importe a abonar en la compra:\n",
    "    \n",
    "Por ejemplo recibidas las listas:\n",
    "\n",
    "    > elementos = [10, 20, 30]\n",
    "    > cantidades = [3, 2, 1]\n",
    "    > descuento = 10\n",
    "    \n",
    "El resultado debe ser:\n",
    "\n",
    "    > 90"
   ]
  },
  {
   "cell_type": "code",
   "execution_count": 13,
   "metadata": {},
   "outputs": [],
   "source": [
    "# Inserte su código aquí:"
   ]
  },
  {
   "cell_type": "code",
   "execution_count": null,
   "metadata": {},
   "outputs": [],
   "source": []
  }
 ],
 "metadata": {
  "kernelspec": {
   "display_name": "Python 3",
   "language": "python",
   "name": "python3"
  },
  "language_info": {
   "codemirror_mode": {
    "name": "ipython",
    "version": 3
   },
   "file_extension": ".py",
   "mimetype": "text/x-python",
   "name": "python",
   "nbconvert_exporter": "python",
   "pygments_lexer": "ipython3",
   "version": "3.6.5"
  },
  "toc": {
   "base_numbering": 1,
   "nav_menu": {},
   "number_sections": true,
   "sideBar": true,
   "skip_h1_title": false,
   "title_cell": "Table of Contents",
   "title_sidebar": "Contents",
   "toc_cell": false,
   "toc_position": {},
   "toc_section_display": true,
   "toc_window_display": false
  }
 },
 "nbformat": 4,
 "nbformat_minor": 2
}
