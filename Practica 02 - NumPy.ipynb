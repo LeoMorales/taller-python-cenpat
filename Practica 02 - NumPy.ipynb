{
 "cells": [
  {
   "cell_type": "code",
   "execution_count": 42,
   "metadata": {},
   "outputs": [],
   "source": [
    "import numpy as np"
   ]
  },
  {
   "cell_type": "markdown",
   "metadata": {},
   "source": [
    "# GENERADORES"
   ]
  },
  {
   "cell_type": "markdown",
   "metadata": {},
   "source": [
    "## Generar un arreglo (NumPy) de numeros del 0 al 10."
   ]
  },
  {
   "cell_type": "code",
   "execution_count": 43,
   "metadata": {},
   "outputs": [],
   "source": [
    "def lista_0al10():\n",
    "    # acá va tu código\n",
    "    resultado = []\n",
    "    \n",
    "    return resultado\n",
    "    "
   ]
  },
  {
   "cell_type": "code",
   "execution_count": 44,
   "metadata": {},
   "outputs": [
    {
     "data": {
      "text/plain": [
       "[]"
      ]
     },
     "execution_count": 44,
     "metadata": {},
     "output_type": "execute_result"
    }
   ],
   "source": [
    "lista_0al10()"
   ]
  },
  {
   "cell_type": "markdown",
   "metadata": {},
   "source": [
    "## Generar arreglo de numeros pares de inicio hasta fin."
   ]
  },
  {
   "cell_type": "code",
   "execution_count": 45,
   "metadata": {},
   "outputs": [],
   "source": [
    "def lista_pares(inicio=0, fin=1000):\n",
    "    # acá va tu código\n",
    "    resultado = []\n",
    "    \n",
    "    return resultado\n",
    "\n"
   ]
  },
  {
   "cell_type": "code",
   "execution_count": 46,
   "metadata": {},
   "outputs": [
    {
     "data": {
      "text/plain": [
       "[]"
      ]
     },
     "execution_count": 46,
     "metadata": {},
     "output_type": "execute_result"
    }
   ],
   "source": [
    "lista_pares(0, 100)"
   ]
  },
  {
   "cell_type": "markdown",
   "metadata": {},
   "source": [
    "## Generar un arreglo de 1000 elementos, con numeros random."
   ]
  },
  {
   "cell_type": "code",
   "execution_count": 47,
   "metadata": {},
   "outputs": [],
   "source": [
    "def lista_random(cantidad=1000):\n",
    "    # acá va tu código\n",
    "    resultado = []\n",
    "    \n",
    "    return resultado\n",
    "\n"
   ]
  },
  {
   "cell_type": "code",
   "execution_count": 48,
   "metadata": {},
   "outputs": [
    {
     "data": {
      "text/plain": [
       "[]"
      ]
     },
     "execution_count": 48,
     "metadata": {},
     "output_type": "execute_result"
    }
   ],
   "source": [
    "lista_random(100)"
   ]
  },
  {
   "cell_type": "markdown",
   "metadata": {},
   "source": [
    "# ACCESO"
   ]
  },
  {
   "cell_type": "markdown",
   "metadata": {},
   "source": [
    "## Crear una función que retorne los primeros 100 valores de un arreglo."
   ]
  },
  {
   "cell_type": "code",
   "execution_count": 49,
   "metadata": {},
   "outputs": [],
   "source": [
    "def primeros100(arreglo):\n",
    "    # acá va tu código\n",
    "    resultado = []\n",
    "    \n",
    "    return resultado"
   ]
  },
  {
   "cell_type": "code",
   "execution_count": 50,
   "metadata": {},
   "outputs": [
    {
     "data": {
      "text/plain": [
       "[]"
      ]
     },
     "execution_count": 50,
     "metadata": {},
     "output_type": "execute_result"
    }
   ],
   "source": [
    "primeros100(np.arange(1000))"
   ]
  },
  {
   "cell_type": "markdown",
   "metadata": {},
   "source": [
    "## Crear una función que retorne los ultimos 100 valores de un arreglo."
   ]
  },
  {
   "cell_type": "code",
   "execution_count": 51,
   "metadata": {},
   "outputs": [],
   "source": [
    "def ultimos100(arreglo):\n",
    "    # acá va tu código\n",
    "    resultado = []\n",
    "    \n",
    "    return resultado"
   ]
  },
  {
   "cell_type": "code",
   "execution_count": 52,
   "metadata": {},
   "outputs": [
    {
     "data": {
      "text/plain": [
       "[]"
      ]
     },
     "execution_count": 52,
     "metadata": {},
     "output_type": "execute_result"
    }
   ],
   "source": [
    "ultimos100(np.arange(1000))"
   ]
  },
  {
   "cell_type": "markdown",
   "metadata": {},
   "source": [
    "## Crear una función que: dado un valor y un arreglo, retorne los numeros que sean menores a ese valor."
   ]
  },
  {
   "cell_type": "code",
   "execution_count": 53,
   "metadata": {},
   "outputs": [],
   "source": [
    "def min_to(arreglo, minimo):\n",
    "    # acá va tu código\n",
    "    resultado = []\n",
    "    \n",
    "    return resultado"
   ]
  },
  {
   "cell_type": "code",
   "execution_count": 54,
   "metadata": {},
   "outputs": [
    {
     "data": {
      "text/plain": [
       "[]"
      ]
     },
     "execution_count": 54,
     "metadata": {},
     "output_type": "execute_result"
    }
   ],
   "source": [
    "min_to(np.arange(2000), 500)"
   ]
  },
  {
   "cell_type": "markdown",
   "metadata": {},
   "source": [
    "## Crear una función que: dado un valor y un arreglo, retorne los numeros que sean mayores a ese valor."
   ]
  },
  {
   "cell_type": "code",
   "execution_count": 55,
   "metadata": {},
   "outputs": [],
   "source": [
    "def max_to(arreglo, mayores):\n",
    "    # acá va tu código\n",
    "    resultado = []\n",
    "    \n",
    "    return resultado"
   ]
  },
  {
   "cell_type": "code",
   "execution_count": 56,
   "metadata": {},
   "outputs": [
    {
     "data": {
      "text/plain": [
       "[]"
      ]
     },
     "execution_count": 56,
     "metadata": {},
     "output_type": "execute_result"
    }
   ],
   "source": [
    "max_to(np.arange(2000), 500)"
   ]
  },
  {
   "cell_type": "markdown",
   "metadata": {},
   "source": [
    "## Crear una funcion que: dado un maximo y un minimo, devuelva un arreglo con los valores que cumplan con el rango."
   ]
  },
  {
   "cell_type": "code",
   "execution_count": 57,
   "metadata": {},
   "outputs": [],
   "source": [
    "def max_min_to(arreglo, minimo, maximo):\n",
    "    # acá va tu código\n",
    "    resultado = []\n",
    "    \n",
    "    return resultado"
   ]
  },
  {
   "cell_type": "code",
   "execution_count": 58,
   "metadata": {},
   "outputs": [
    {
     "data": {
      "text/plain": [
       "[]"
      ]
     },
     "execution_count": 58,
     "metadata": {},
     "output_type": "execute_result"
    }
   ],
   "source": [
    "max_min_to(np.arange(100), 10, 50)"
   ]
  },
  {
   "cell_type": "markdown",
   "metadata": {},
   "source": [
    "# OPERACIONES"
   ]
  },
  {
   "cell_type": "markdown",
   "metadata": {},
   "source": [
    "## Dado un arreglo de 100 elementos, retornar el minimo y el maximo del arreglo."
   ]
  },
  {
   "cell_type": "code",
   "execution_count": 59,
   "metadata": {},
   "outputs": [],
   "source": [
    "def minmax(arreglo):\n",
    "    # acá va tu código\n",
    "    minimo = 0\n",
    "    maximo = 0\n",
    "    \n",
    "    return minimo, maximo\n"
   ]
  },
  {
   "cell_type": "code",
   "execution_count": 60,
   "metadata": {},
   "outputs": [],
   "source": [
    "arreglo = np.array([190,  36, 514,  79, 106, 534, 989, 546, 639, 944, 431, 382, 105,\n",
    "       673, 101,  26, 595, 772, 481, 845, 151, 186, 215, 393, 832, 779,\n",
    "       591, 877, 494, 711, 798, 768, 317, 310, 348, 663, 328, 991, 218,\n",
    "       499, 400, 391, 828, 691, 463, 111, 332, 391,  30, 871, 594, 834,\n",
    "       981, 292,  34, 145, 582, 422, 500,   2, 521, 400, 405, 409, 590,\n",
    "       307, 801, 637, 801, 179, 503, 555, 363, 129,  64, 507, 314, 235,\n",
    "         9, 760, 498, 255, 522, 789, 105, 397, 913, 342, 694, 391, 809,\n",
    "       872, 730, 800, 448, 275, 935,  83, 228, 343])"
   ]
  },
  {
   "cell_type": "code",
   "execution_count": 61,
   "metadata": {},
   "outputs": [
    {
     "data": {
      "text/plain": [
       "(0, 0)"
      ]
     },
     "execution_count": 61,
     "metadata": {},
     "output_type": "execute_result"
    }
   ],
   "source": [
    "minmax(arreglo)"
   ]
  },
  {
   "cell_type": "markdown",
   "metadata": {},
   "source": [
    "## Invertir un arreglo."
   ]
  },
  {
   "cell_type": "code",
   "execution_count": null,
   "metadata": {},
   "outputs": [],
   "source": []
  },
  {
   "cell_type": "markdown",
   "metadata": {},
   "source": [
    "## Multiplicar un escalar con un arreglo."
   ]
  },
  {
   "cell_type": "code",
   "execution_count": null,
   "metadata": {},
   "outputs": [],
   "source": []
  },
  {
   "cell_type": "markdown",
   "metadata": {},
   "source": [
    "## Sumar un escalar a un arreglo."
   ]
  },
  {
   "cell_type": "code",
   "execution_count": null,
   "metadata": {},
   "outputs": [],
   "source": []
  },
  {
   "cell_type": "markdown",
   "metadata": {},
   "source": [
    "## Sumar elemento a elemento dos arreglos."
   ]
  },
  {
   "cell_type": "code",
   "execution_count": null,
   "metadata": {},
   "outputs": [],
   "source": []
  },
  {
   "cell_type": "markdown",
   "metadata": {},
   "source": [
    "## Restar elemento a elemento dos arreglos."
   ]
  },
  {
   "cell_type": "code",
   "execution_count": null,
   "metadata": {},
   "outputs": [],
   "source": []
  },
  {
   "cell_type": "markdown",
   "metadata": {},
   "source": [
    "## Producto de Matrices."
   ]
  },
  {
   "cell_type": "markdown",
   "metadata": {},
   "source": [
    "## Dado:"
   ]
  },
  {
   "cell_type": "code",
   "execution_count": 116,
   "metadata": {},
   "outputs": [
    {
     "data": {
      "text/plain": [
       "array([[0, 1, 0, 1, 1, 1, 2, 0, 0, 0],\n",
       "       [3, 1, 1, 1, 1, 0, 1, 2, 0, 0],\n",
       "       [0, 1, 1, 3, 3, 0, 0, 1, 3, 1],\n",
       "       [1, 3, 0, 0, 1, 2, 3, 2, 0, 0],\n",
       "       [0, 2, 1, 1, 2, 0, 0, 0, 1, 0],\n",
       "       [2, 0, 1, 1, 1, 0, 0, 2, 1, 1],\n",
       "       [0, 1, 2, 0, 1, 1, 0, 0, 2, 2],\n",
       "       [0, 2, 3, 2, 0, 0, 3, 3, 1, 0],\n",
       "       [0, 1, 2, 1, 2, 2, 0, 0, 1, 1],\n",
       "       [1, 1, 0, 1, 1, 1, 1, 0, 1, 1]])"
      ]
     },
     "execution_count": 116,
     "metadata": {},
     "output_type": "execute_result"
    }
   ],
   "source": [
    "A = np.random.poisson(size=(10,10))\n",
    "A"
   ]
  },
  {
   "cell_type": "code",
   "execution_count": 117,
   "metadata": {},
   "outputs": [
    {
     "data": {
      "text/plain": [
       "array([[0.176312  , 0.04634691, 0.77071039, 0.01647991, 0.23220096,\n",
       "        0.40482232, 0.20714525, 0.25778742, 0.12368885, 0.89103959],\n",
       "       [0.08991318, 0.68922605, 0.30548349, 0.85640051, 0.24585678,\n",
       "        0.379791  , 0.49143447, 0.61912877, 0.52517548, 0.29905713],\n",
       "       [0.79390899, 0.02140599, 0.58715966, 0.75054467, 0.47512292,\n",
       "        0.79417678, 0.16928434, 0.85606935, 0.24277659, 0.73921837],\n",
       "       [0.75337883, 0.2927085 , 0.12420868, 0.53878042, 0.04253116,\n",
       "        0.82733765, 0.50516874, 0.88903199, 0.44819449, 0.04383156],\n",
       "       [0.11150382, 0.09241049, 0.24599623, 0.94412115, 0.55093369,\n",
       "        0.31291435, 0.17046559, 0.86421042, 0.80405581, 0.29514223],\n",
       "       [0.44980272, 0.63522232, 0.56447073, 0.18864789, 0.71753706,\n",
       "        0.89079317, 0.47345323, 0.92194835, 0.3237261 , 0.63571969],\n",
       "       [0.1307637 , 0.09361412, 0.21236895, 0.23643929, 0.99436864,\n",
       "        0.25984943, 0.99112733, 0.77964666, 0.40137128, 0.33468354],\n",
       "       [0.39815101, 0.44091824, 0.1458084 , 0.89606815, 0.43981896,\n",
       "        0.73468174, 0.55875809, 0.71102309, 0.20704484, 0.01768455],\n",
       "       [0.95579419, 0.78059145, 0.09998751, 0.31420487, 0.09898726,\n",
       "        0.94174583, 0.10119701, 0.60486083, 0.18431689, 0.61427624],\n",
       "       [0.24773015, 0.70727769, 0.73278542, 0.65131689, 0.14373127,\n",
       "        0.96765354, 0.53130962, 0.28345094, 0.84386915, 0.18064095]])"
      ]
     },
     "execution_count": 117,
     "metadata": {},
     "output_type": "execute_result"
    }
   ],
   "source": [
    "B = np.random.random(size=(10,10))\n",
    "B"
   ]
  },
  {
   "cell_type": "markdown",
   "metadata": {},
   "source": [
    "## Selecionar los valores de B que contienen ceros en A:"
   ]
  },
  {
   "cell_type": "code",
   "execution_count": null,
   "metadata": {},
   "outputs": [],
   "source": []
  },
  {
   "cell_type": "markdown",
   "metadata": {},
   "source": [
    "## Selecionar los valores de A con B >0.5:"
   ]
  },
  {
   "cell_type": "code",
   "execution_count": null,
   "metadata": {},
   "outputs": [],
   "source": []
  }
 ],
 "metadata": {
  "kernelspec": {
   "display_name": "dlearning",
   "language": "python",
   "name": "dlearning"
  },
  "language_info": {
   "codemirror_mode": {
    "name": "ipython",
    "version": 3
   },
   "file_extension": ".py",
   "mimetype": "text/x-python",
   "name": "python",
   "nbconvert_exporter": "python",
   "pygments_lexer": "ipython3",
   "version": "3.7.3"
  }
 },
 "nbformat": 4,
 "nbformat_minor": 4
}
