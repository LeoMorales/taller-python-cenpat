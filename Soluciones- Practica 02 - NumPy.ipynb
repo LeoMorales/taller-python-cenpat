{
 "cells": [
  {
   "cell_type": "code",
   "execution_count": 3,
   "metadata": {},
   "outputs": [],
   "source": [
    "import numpy as np"
   ]
  },
  {
   "cell_type": "markdown",
   "metadata": {},
   "source": [
    "# GENERADORES"
   ]
  },
  {
   "cell_type": "markdown",
   "metadata": {},
   "source": [
    "## Generar un arreglo (NumPy) de numeros del 0 al 10."
   ]
  },
  {
   "cell_type": "code",
   "execution_count": 8,
   "metadata": {},
   "outputs": [],
   "source": [
    "def lista_0al10():\n",
    "    # acá va tu código\n",
    "    resultado = np.arange(0,11)\n",
    "    \n",
    "    return resultado\n",
    "    "
   ]
  },
  {
   "cell_type": "code",
   "execution_count": 9,
   "metadata": {},
   "outputs": [
    {
     "data": {
      "text/plain": [
       "array([ 0,  1,  2,  3,  4,  5,  6,  7,  8,  9, 10])"
      ]
     },
     "execution_count": 9,
     "metadata": {},
     "output_type": "execute_result"
    }
   ],
   "source": [
    "lista_0al10()"
   ]
  },
  {
   "cell_type": "markdown",
   "metadata": {},
   "source": [
    "## Generar arreglo de numeros pares de inicio hasta fin."
   ]
  },
  {
   "cell_type": "code",
   "execution_count": 10,
   "metadata": {},
   "outputs": [],
   "source": [
    "def lista_pares(inicio=0, fin=1000):\n",
    "    # acá va tu código\n",
    "    resultado = np.arange(inicio, fin)\n",
    "    resultado = resultado[resultado%2==0]\n",
    "    \n",
    "    return resultado\n",
    "\n"
   ]
  },
  {
   "cell_type": "code",
   "execution_count": 12,
   "metadata": {},
   "outputs": [
    {
     "data": {
      "text/plain": [
       "array([   0,    2,    4, ..., 9994, 9996, 9998])"
      ]
     },
     "execution_count": 12,
     "metadata": {},
     "output_type": "execute_result"
    }
   ],
   "source": [
    "lista_pares(0, 10000)"
   ]
  },
  {
   "cell_type": "markdown",
   "metadata": {},
   "source": [
    "## Generar un arreglo de 1000 elementos, con numeros random."
   ]
  },
  {
   "cell_type": "code",
   "execution_count": 16,
   "metadata": {},
   "outputs": [],
   "source": [
    "def lista_random(cantidad=1000):\n",
    "    # acá va tu código\n",
    "    resultado = np.random.random(size=cantidad)\n",
    "    \n",
    "    return resultado\n",
    "\n"
   ]
  },
  {
   "cell_type": "code",
   "execution_count": 17,
   "metadata": {},
   "outputs": [
    {
     "data": {
      "text/plain": [
       "array([0.87611376, 0.65977725, 0.29634957])"
      ]
     },
     "execution_count": 17,
     "metadata": {},
     "output_type": "execute_result"
    }
   ],
   "source": [
    "lista_random(3)"
   ]
  },
  {
   "cell_type": "markdown",
   "metadata": {},
   "source": [
    "# ACCESO"
   ]
  },
  {
   "cell_type": "markdown",
   "metadata": {},
   "source": [
    "## Crear una función que retorne los primeros 100 valores de un arreglo."
   ]
  },
  {
   "cell_type": "code",
   "execution_count": 19,
   "metadata": {},
   "outputs": [],
   "source": [
    "def primeros100(arreglo):\n",
    "    # acá va tu código\n",
    "    resultado = arreglo[0:100]\n",
    "    \n",
    "    return resultado"
   ]
  },
  {
   "cell_type": "code",
   "execution_count": 20,
   "metadata": {},
   "outputs": [
    {
     "data": {
      "text/plain": [
       "array([ 0,  1,  2,  3,  4,  5,  6,  7,  8,  9, 10, 11, 12, 13, 14, 15, 16,\n",
       "       17, 18, 19, 20, 21, 22, 23, 24, 25, 26, 27, 28, 29, 30, 31, 32, 33,\n",
       "       34, 35, 36, 37, 38, 39, 40, 41, 42, 43, 44, 45, 46, 47, 48, 49, 50,\n",
       "       51, 52, 53, 54, 55, 56, 57, 58, 59, 60, 61, 62, 63, 64, 65, 66, 67,\n",
       "       68, 69, 70, 71, 72, 73, 74, 75, 76, 77, 78, 79, 80, 81, 82, 83, 84,\n",
       "       85, 86, 87, 88, 89, 90, 91, 92, 93, 94, 95, 96, 97, 98, 99])"
      ]
     },
     "execution_count": 20,
     "metadata": {},
     "output_type": "execute_result"
    }
   ],
   "source": [
    "primeros100(np.arange(1000))"
   ]
  },
  {
   "cell_type": "markdown",
   "metadata": {},
   "source": [
    "## Crear una función que retorne los ultimos 100 valores de un arreglo."
   ]
  },
  {
   "cell_type": "code",
   "execution_count": 28,
   "metadata": {},
   "outputs": [],
   "source": [
    "def ultimos100(arreglo):\n",
    "    # acá va tu código\n",
    "    resultado = np.flip(arreglo)[0:100]\n",
    "    \n",
    "    return np.sort(resultado)"
   ]
  },
  {
   "cell_type": "code",
   "execution_count": 33,
   "metadata": {},
   "outputs": [
    {
     "data": {
      "text/plain": [
       "array([900, 901, 902, 903, 904, 905, 906, 907, 908, 909, 910, 911, 912,\n",
       "       913, 914, 915, 916, 917, 918, 919, 920, 921, 922, 923, 924, 925,\n",
       "       926, 927, 928, 929, 930, 931, 932, 933, 934, 935, 936, 937, 938,\n",
       "       939, 940, 941, 942, 943, 944, 945, 946, 947, 948, 949, 950, 951,\n",
       "       952, 953, 954, 955, 956, 957, 958, 959, 960, 961, 962, 963, 964,\n",
       "       965, 966, 967, 968, 969, 970, 971, 972, 973, 974, 975, 976, 977,\n",
       "       978, 979, 980, 981, 982, 983, 984, 985, 986, 987, 988, 989, 990,\n",
       "       991, 992, 993, 994, 995, 996, 997, 998, 999])"
      ]
     },
     "execution_count": 33,
     "metadata": {},
     "output_type": "execute_result"
    }
   ],
   "source": [
    "ultimos100(np.arange(1000))"
   ]
  },
  {
   "cell_type": "markdown",
   "metadata": {},
   "source": [
    "## Crear una función que: dado un valor y un arreglo, retorne los numeros que sean menores a ese valor."
   ]
  },
  {
   "cell_type": "code",
   "execution_count": 34,
   "metadata": {},
   "outputs": [],
   "source": [
    "def min_to(arreglo, minimo):\n",
    "    # acá va tu código\n",
    "    resultado = arreglo[arreglo<minimo]\n",
    "    \n",
    "    return resultado"
   ]
  },
  {
   "cell_type": "code",
   "execution_count": 36,
   "metadata": {},
   "outputs": [
    {
     "data": {
      "text/plain": [
       "array([ 0,  1,  2,  3,  4,  5,  6,  7,  8,  9, 10, 11, 12, 13, 14, 15, 16,\n",
       "       17, 18, 19, 20, 21, 22, 23, 24, 25, 26, 27, 28, 29, 30, 31, 32, 33,\n",
       "       34, 35, 36, 37, 38, 39, 40, 41, 42, 43, 44, 45, 46, 47, 48, 49])"
      ]
     },
     "execution_count": 36,
     "metadata": {},
     "output_type": "execute_result"
    }
   ],
   "source": [
    "min_to(np.arange(200), 50)"
   ]
  },
  {
   "cell_type": "markdown",
   "metadata": {},
   "source": [
    "## Crear una función que: dado un valor y un arreglo, retorne los numeros que sean mayores a ese valor."
   ]
  },
  {
   "cell_type": "code",
   "execution_count": 40,
   "metadata": {},
   "outputs": [],
   "source": [
    "def max_to(arreglo,  maximo):\n",
    "    # acá va tu código\n",
    "    resultado = arreglo[arreglo>maximo]\n",
    "    \n",
    "    return resultado"
   ]
  },
  {
   "cell_type": "code",
   "execution_count": 41,
   "metadata": {},
   "outputs": [
    {
     "data": {
      "text/plain": [
       "array([ 501,  502,  503, ..., 1997, 1998, 1999])"
      ]
     },
     "execution_count": 41,
     "metadata": {},
     "output_type": "execute_result"
    }
   ],
   "source": [
    "max_to(np.arange(2000), 500)"
   ]
  },
  {
   "cell_type": "markdown",
   "metadata": {},
   "source": [
    "## Crear una funcion que: dado un maximo y un minimo, devuelva un arreglo con los valores que cumplan con el rango."
   ]
  },
  {
   "cell_type": "code",
   "execution_count": 42,
   "metadata": {},
   "outputs": [],
   "source": [
    "def max_min_to(arreglo, minimo, maximo):\n",
    "    # acá va tu código\n",
    "    resultado = arreglo[arreglo>minimo]\n",
    "    resultado = resultado[resultado<maximo]\n",
    "    \n",
    "    return resultado"
   ]
  },
  {
   "cell_type": "code",
   "execution_count": 43,
   "metadata": {},
   "outputs": [
    {
     "data": {
      "text/plain": [
       "array([11, 12, 13, 14, 15, 16, 17, 18, 19, 20, 21, 22, 23, 24, 25, 26, 27,\n",
       "       28, 29, 30, 31, 32, 33, 34, 35, 36, 37, 38, 39, 40, 41, 42, 43, 44,\n",
       "       45, 46, 47, 48, 49])"
      ]
     },
     "execution_count": 43,
     "metadata": {},
     "output_type": "execute_result"
    }
   ],
   "source": [
    "max_min_to(np.arange(100), 10, 50)"
   ]
  },
  {
   "cell_type": "markdown",
   "metadata": {},
   "source": [
    "# OPERACIONES"
   ]
  },
  {
   "cell_type": "markdown",
   "metadata": {},
   "source": [
    "## Dado un arreglo de 100 elementos, retornar el minimo y el maximo del arreglo."
   ]
  },
  {
   "cell_type": "code",
   "execution_count": 44,
   "metadata": {},
   "outputs": [],
   "source": [
    "def minmax(arreglo):\n",
    "    # acá va tu código\n",
    "    minimo = np.min(arreglo)\n",
    "    maximo = np.max(arreglo)\n",
    "    \n",
    "    return minimo, maximo\n"
   ]
  },
  {
   "cell_type": "code",
   "execution_count": 45,
   "metadata": {},
   "outputs": [],
   "source": [
    "arreglo = np.array([190,  36, 514,  79, 106, 534, 989, 546, 639, 944, 431, 382, 105,\n",
    "       673, 101,  26, 595, 772, 481, 845, 151, 186, 215, 393, 832, 779,\n",
    "       591, 877, 494, 711, 798, 768, 317, 310, 348, 663, 328, 991, 218,\n",
    "       499, 400, 391, 828, 691, 463, 111, 332, 391,  30, 871, 594, 834,\n",
    "       981, 292,  34, 145, 582, 422, 500,   2, 521, 400, 405, 409, 590,\n",
    "       307, 801, 637, 801, 179, 503, 555, 363, 129,  64, 507, 314, 235,\n",
    "         9, 760, 498, 255, 522, 789, 105, 397, 913, 342, 694, 391, 809,\n",
    "       872, 730, 800, 448, 275, 935,  83, 228, 343])"
   ]
  },
  {
   "cell_type": "code",
   "execution_count": 46,
   "metadata": {},
   "outputs": [
    {
     "data": {
      "text/plain": [
       "(2, 991)"
      ]
     },
     "execution_count": 46,
     "metadata": {},
     "output_type": "execute_result"
    }
   ],
   "source": [
    "minmax(arreglo)"
   ]
  },
  {
   "cell_type": "markdown",
   "metadata": {},
   "source": [
    "## Invertir un arreglo."
   ]
  },
  {
   "cell_type": "code",
   "execution_count": 49,
   "metadata": {},
   "outputs": [
    {
     "data": {
      "text/plain": [
       "(array([10, 11, 12, 13, 14, 15, 16, 17, 18, 19, 20, 21, 22, 23, 24, 25, 26,\n",
       "        27, 28, 29, 30, 31, 32, 33, 34, 35, 36, 37, 38, 39, 40, 41, 42, 43,\n",
       "        44, 45, 46, 47, 48, 49, 50, 51, 52, 53, 54, 55, 56, 57, 58, 59, 60,\n",
       "        61, 62, 63, 64, 65, 66, 67, 68, 69, 70, 71, 72, 73, 74, 75, 76, 77,\n",
       "        78, 79, 80, 81, 82, 83, 84, 85, 86, 87, 88, 89, 90, 91, 92, 93, 94,\n",
       "        95, 96, 97, 98, 99]),\n",
       " array([99, 98, 97, 96, 95, 94, 93, 92, 91, 90, 89, 88, 87, 86, 85, 84, 83,\n",
       "        82, 81, 80, 79, 78, 77, 76, 75, 74, 73, 72, 71, 70, 69, 68, 67, 66,\n",
       "        65, 64, 63, 62, 61, 60, 59, 58, 57, 56, 55, 54, 53, 52, 51, 50, 49,\n",
       "        48, 47, 46, 45, 44, 43, 42, 41, 40, 39, 38, 37, 36, 35, 34, 33, 32,\n",
       "        31, 30, 29, 28, 27, 26, 25, 24, 23, 22, 21, 20, 19, 18, 17, 16, 15,\n",
       "        14, 13, 12, 11, 10]))"
      ]
     },
     "execution_count": 49,
     "metadata": {},
     "output_type": "execute_result"
    }
   ],
   "source": [
    "arreglo= np.arange(10, 100)\n",
    "arreglo, np.flip(arreglo)"
   ]
  },
  {
   "cell_type": "markdown",
   "metadata": {},
   "source": [
    "## Multiplicar un escalar con un arreglo."
   ]
  },
  {
   "cell_type": "code",
   "execution_count": 50,
   "metadata": {},
   "outputs": [
    {
     "data": {
      "text/plain": [
       "array([1000, 1100, 1200, 1300, 1400, 1500, 1600, 1700, 1800, 1900, 2000,\n",
       "       2100, 2200, 2300, 2400, 2500, 2600, 2700, 2800, 2900, 3000, 3100,\n",
       "       3200, 3300, 3400, 3500, 3600, 3700, 3800, 3900, 4000, 4100, 4200,\n",
       "       4300, 4400, 4500, 4600, 4700, 4800, 4900, 5000, 5100, 5200, 5300,\n",
       "       5400, 5500, 5600, 5700, 5800, 5900, 6000, 6100, 6200, 6300, 6400,\n",
       "       6500, 6600, 6700, 6800, 6900, 7000, 7100, 7200, 7300, 7400, 7500,\n",
       "       7600, 7700, 7800, 7900, 8000, 8100, 8200, 8300, 8400, 8500, 8600,\n",
       "       8700, 8800, 8900, 9000, 9100, 9200, 9300, 9400, 9500, 9600, 9700,\n",
       "       9800, 9900])"
      ]
     },
     "execution_count": 50,
     "metadata": {},
     "output_type": "execute_result"
    }
   ],
   "source": [
    "arreglo= np.arange(10, 100)\n",
    "arreglo*100"
   ]
  },
  {
   "cell_type": "markdown",
   "metadata": {},
   "source": [
    "## Sumar un escalar a un arreglo."
   ]
  },
  {
   "cell_type": "code",
   "execution_count": 51,
   "metadata": {},
   "outputs": [
    {
     "data": {
      "text/plain": [
       "array([ 20,  21,  22,  23,  24,  25,  26,  27,  28,  29,  30,  31,  32,\n",
       "        33,  34,  35,  36,  37,  38,  39,  40,  41,  42,  43,  44,  45,\n",
       "        46,  47,  48,  49,  50,  51,  52,  53,  54,  55,  56,  57,  58,\n",
       "        59,  60,  61,  62,  63,  64,  65,  66,  67,  68,  69,  70,  71,\n",
       "        72,  73,  74,  75,  76,  77,  78,  79,  80,  81,  82,  83,  84,\n",
       "        85,  86,  87,  88,  89,  90,  91,  92,  93,  94,  95,  96,  97,\n",
       "        98,  99, 100, 101, 102, 103, 104, 105, 106, 107, 108, 109])"
      ]
     },
     "execution_count": 51,
     "metadata": {},
     "output_type": "execute_result"
    }
   ],
   "source": [
    "arreglo= np.arange(10, 100)\n",
    "arreglo+10"
   ]
  },
  {
   "cell_type": "markdown",
   "metadata": {},
   "source": [
    "## Sumar elemento a elemento dos arreglos."
   ]
  },
  {
   "cell_type": "code",
   "execution_count": 55,
   "metadata": {},
   "outputs": [
    {
     "data": {
      "text/plain": [
       "array([102, 104, 106, 108, 110, 112, 114, 116, 118, 120, 122, 124, 126,\n",
       "       128, 130, 132, 134, 136, 138, 140, 142, 144, 146, 148, 150, 152,\n",
       "       154, 156, 158, 160, 162, 164, 166, 168, 170, 172, 174, 176, 178,\n",
       "       180, 182, 184, 186, 188, 190, 192, 194, 196, 198, 200, 202, 204,\n",
       "       206, 208, 210, 212, 214, 216, 218, 220, 222, 224, 226, 228, 230,\n",
       "       232, 234, 236, 238, 240, 242, 244, 246, 248, 250, 252, 254, 256,\n",
       "       258, 260, 262, 264, 266, 268, 270, 272, 274, 276, 278, 280, 282,\n",
       "       284, 286, 288, 290, 292, 294, 296, 298])"
      ]
     },
     "execution_count": 55,
     "metadata": {},
     "output_type": "execute_result"
    }
   ],
   "source": [
    "arreglo_0 = np.arange(1, 100)\n",
    "arreglo_1 = np.arange(101, 200)\n",
    "arreglo_0 + arreglo_1"
   ]
  },
  {
   "cell_type": "markdown",
   "metadata": {},
   "source": [
    "## Restar elemento a elemento dos arreglos."
   ]
  },
  {
   "cell_type": "code",
   "execution_count": 56,
   "metadata": {},
   "outputs": [
    {
     "data": {
      "text/plain": [
       "array([-100, -100, -100, -100, -100, -100, -100, -100, -100, -100, -100,\n",
       "       -100, -100, -100, -100, -100, -100, -100, -100, -100, -100, -100,\n",
       "       -100, -100, -100, -100, -100, -100, -100, -100, -100, -100, -100,\n",
       "       -100, -100, -100, -100, -100, -100, -100, -100, -100, -100, -100,\n",
       "       -100, -100, -100, -100, -100, -100, -100, -100, -100, -100, -100,\n",
       "       -100, -100, -100, -100, -100, -100, -100, -100, -100, -100, -100,\n",
       "       -100, -100, -100, -100, -100, -100, -100, -100, -100, -100, -100,\n",
       "       -100, -100, -100, -100, -100, -100, -100, -100, -100, -100, -100,\n",
       "       -100, -100, -100, -100, -100, -100, -100, -100, -100, -100, -100])"
      ]
     },
     "execution_count": 56,
     "metadata": {},
     "output_type": "execute_result"
    }
   ],
   "source": [
    "arreglo_0 = np.arange(1, 100)\n",
    "arreglo_1 = np.arange(101, 200)\n",
    "arreglo_0 - arreglo_1"
   ]
  },
  {
   "cell_type": "markdown",
   "metadata": {},
   "source": [
    "## Producto de Matrices."
   ]
  },
  {
   "cell_type": "code",
   "execution_count": 57,
   "metadata": {},
   "outputs": [
    {
     "data": {
      "text/plain": [
       "array([[25.90314607, 24.52225825, 22.98950223, 24.47048813, 25.92319894,\n",
       "        27.95325998, 22.6178736 , 27.12887399, 25.82943638, 24.96336827],\n",
       "       [25.55711471, 25.35612531, 22.90536429, 26.15937347, 25.06270715,\n",
       "        27.42806325, 24.30449006, 26.99472105, 26.69366923, 24.26368614],\n",
       "       [23.23500971, 23.52313339, 20.6354705 , 23.06138255, 21.70845704,\n",
       "        24.03659411, 20.84042757, 21.93233414, 21.9266172 , 21.62377322],\n",
       "       [22.83503892, 23.82192451, 20.88228232, 24.73671469, 24.70488901,\n",
       "        27.0758386 , 22.4380082 , 25.61122478, 24.36432794, 23.59086482],\n",
       "       [24.70216985, 23.79479891, 22.49060599, 23.1666652 , 24.51999619,\n",
       "        24.99973122, 22.17996007, 24.28220627, 25.82140331, 23.74014081],\n",
       "       [25.3809301 , 24.78561272, 22.37027581, 25.14914965, 24.29602203,\n",
       "        26.35709732, 23.24622288, 24.96695726, 25.70157023, 23.85435537],\n",
       "       [22.92837113, 23.67338579, 21.37835903, 24.03587162, 22.86051193,\n",
       "        24.69406801, 21.11681143, 23.56320485, 22.57315187, 22.29185773],\n",
       "       [26.02040689, 24.72405483, 25.14554699, 25.76337917, 24.51334573,\n",
       "        27.25900998, 23.40487083, 24.74137399, 26.29509398, 25.23225709],\n",
       "       [28.82989317, 28.76997784, 26.41977107, 28.69615913, 29.00928381,\n",
       "        29.27981558, 25.89139764, 29.74103168, 29.3158115 , 27.19632574],\n",
       "       [22.54881549, 24.63665334, 22.42655645, 23.77499903, 23.87557166,\n",
       "        24.37918046, 22.71975074, 23.71829766, 23.88464491, 23.15773677]])"
      ]
     },
     "execution_count": 57,
     "metadata": {},
     "output_type": "execute_result"
    }
   ],
   "source": [
    "A = np.random.random_sample((10, 100))\n",
    "B = np.random.random_sample((100, 10))\n",
    "\n",
    "np.linalg.multi_dot([A,B])"
   ]
  },
  {
   "cell_type": "markdown",
   "metadata": {},
   "source": [
    "## Dado:"
   ]
  },
  {
   "cell_type": "code",
   "execution_count": 59,
   "metadata": {},
   "outputs": [
    {
     "data": {
      "text/plain": [
       "array([[1, 0, 2, 1, 1, 0, 2, 1, 1, 1],\n",
       "       [2, 1, 1, 2, 0, 2, 0, 0, 0, 1],\n",
       "       [2, 2, 0, 0, 0, 0, 0, 2, 1, 1],\n",
       "       [3, 0, 0, 1, 1, 2, 1, 2, 1, 0],\n",
       "       [0, 1, 1, 1, 1, 0, 3, 2, 0, 3],\n",
       "       [0, 0, 3, 0, 1, 0, 0, 0, 0, 2],\n",
       "       [0, 1, 0, 0, 3, 1, 0, 1, 1, 1],\n",
       "       [2, 0, 0, 0, 1, 2, 0, 1, 0, 1],\n",
       "       [0, 2, 1, 1, 0, 0, 0, 0, 2, 2],\n",
       "       [1, 2, 0, 0, 1, 2, 0, 0, 2, 2]])"
      ]
     },
     "execution_count": 59,
     "metadata": {},
     "output_type": "execute_result"
    }
   ],
   "source": [
    "A = np.random.poisson(size=(10,10))\n",
    "A"
   ]
  },
  {
   "cell_type": "code",
   "execution_count": 60,
   "metadata": {},
   "outputs": [
    {
     "data": {
      "text/plain": [
       "array([[0.90857271, 0.55074826, 0.4021405 , 0.40762687, 0.73477461,\n",
       "        0.50154031, 0.79943567, 0.52853551, 0.42636115, 0.24931345],\n",
       "       [0.76721127, 0.26603311, 0.61907709, 0.90630975, 0.24924053,\n",
       "        0.48011277, 0.90545518, 0.85998417, 0.01923241, 0.81623119],\n",
       "       [0.23340387, 0.39289013, 0.50739306, 0.82561041, 0.74385194,\n",
       "        0.61806004, 0.3721867 , 0.06692427, 0.67667669, 0.87945545],\n",
       "       [0.61570775, 0.64055659, 0.99495006, 0.01666557, 0.10319498,\n",
       "        0.11240013, 0.0954556 , 0.53169885, 0.89370746, 0.24735631],\n",
       "       [0.21670688, 0.01125895, 0.0780304 , 0.82199409, 0.48461024,\n",
       "        0.98922977, 0.05770086, 0.39677191, 0.39220225, 0.44343997],\n",
       "       [0.19451585, 0.72256536, 0.8426923 , 0.63462084, 0.21466333,\n",
       "        0.0385727 , 0.90420412, 0.48518671, 0.28852572, 0.59485484],\n",
       "       [0.65447429, 0.81007611, 0.25855819, 0.47341163, 0.8549986 ,\n",
       "        0.43079634, 0.25505992, 0.77919343, 0.73189862, 0.13907375],\n",
       "       [0.69562746, 0.56268792, 0.47751681, 0.19523111, 0.18783393,\n",
       "        0.86054177, 0.41372754, 0.18571444, 0.83282157, 0.95310531],\n",
       "       [0.30938467, 0.50508041, 0.19969307, 0.58134727, 0.69420634,\n",
       "        0.39293285, 0.50348383, 0.97907428, 0.10962177, 0.60420153],\n",
       "       [0.17988603, 0.53890224, 0.94437778, 0.55937848, 0.09264106,\n",
       "        0.21677499, 0.40525954, 0.8025841 , 0.3066763 , 0.11110686]])"
      ]
     },
     "execution_count": 60,
     "metadata": {},
     "output_type": "execute_result"
    }
   ],
   "source": [
    "B = np.random.random(size=(10,10))\n",
    "B"
   ]
  },
  {
   "cell_type": "markdown",
   "metadata": {},
   "source": [
    "## Selecionar los valores de B que contienen ceros en A:"
   ]
  },
  {
   "cell_type": "code",
   "execution_count": 61,
   "metadata": {},
   "outputs": [
    {
     "data": {
      "text/plain": [
       "array([0.55074826, 0.50154031, 0.24924053, 0.90545518, 0.85998417,\n",
       "       0.01923241, 0.50739306, 0.82561041, 0.74385194, 0.61806004,\n",
       "       0.3721867 , 0.64055659, 0.99495006, 0.24735631, 0.21670688,\n",
       "       0.98922977, 0.39220225, 0.19451585, 0.72256536, 0.63462084,\n",
       "       0.0385727 , 0.90420412, 0.48518671, 0.28852572, 0.65447429,\n",
       "       0.25855819, 0.47341163, 0.25505992, 0.56268792, 0.47751681,\n",
       "       0.19523111, 0.41372754, 0.83282157, 0.30938467, 0.69420634,\n",
       "       0.39293285, 0.50348383, 0.97907428, 0.94437778, 0.55937848,\n",
       "       0.40525954, 0.8025841 ])"
      ]
     },
     "execution_count": 61,
     "metadata": {},
     "output_type": "execute_result"
    }
   ],
   "source": [
    "B[A == 0]"
   ]
  },
  {
   "cell_type": "markdown",
   "metadata": {},
   "source": [
    "## Selecionar los valores de A con B >0.5:"
   ]
  },
  {
   "cell_type": "code",
   "execution_count": 63,
   "metadata": {},
   "outputs": [
    {
     "data": {
      "text/plain": [
       "array([1, 0, 1, 0, 2, 1, 2, 1, 2, 0, 0, 1, 0, 0, 0, 0, 1, 1, 3, 0, 0, 2,\n",
       "       1, 1, 0, 0, 3, 0, 0, 2, 0, 1, 3, 1, 1, 2, 0, 2, 0, 1, 2, 1, 0, 0,\n",
       "       0, 2, 2, 0, 0, 0])"
      ]
     },
     "execution_count": 63,
     "metadata": {},
     "output_type": "execute_result"
    }
   ],
   "source": [
    "A[B>0.5]"
   ]
  }
 ],
 "metadata": {
  "kernelspec": {
   "display_name": "dlearning",
   "language": "python",
   "name": "dlearning"
  },
  "language_info": {
   "codemirror_mode": {
    "name": "ipython",
    "version": 3
   },
   "file_extension": ".py",
   "mimetype": "text/x-python",
   "name": "python",
   "nbconvert_exporter": "python",
   "pygments_lexer": "ipython3",
   "version": "3.7.3"
  }
 },
 "nbformat": 4,
 "nbformat_minor": 4
}
